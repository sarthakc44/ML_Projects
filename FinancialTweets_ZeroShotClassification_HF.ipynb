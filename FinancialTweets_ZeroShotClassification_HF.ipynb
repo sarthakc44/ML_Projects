{
  "nbformat": 4,
  "nbformat_minor": 0,
  "metadata": {
    "colab": {
      "provenance": [],
      "authorship_tag": "ABX9TyO044l9uTiPlhuDFKkaQ0Qr"
    },
    "kernelspec": {
      "name": "python3",
      "display_name": "Python 3"
    },
    "language_info": {
      "name": "python"
    },
    "accelerator": "GPU",
    "gpuClass": "standard"
  },
  "cells": [
    {
      "cell_type": "markdown",
      "source": [
        "Zero-shot sentiment analysis of financial news tweets"
      ],
      "metadata": {
        "id": "9h19DQ_RxLre"
      }
    },
    {
      "cell_type": "code",
      "execution_count": null,
      "metadata": {
        "id": "_EgKf9B2MGcC"
      },
      "outputs": [],
      "source": [
        "!pip install datasets evaluate transformers[sentencepiece]"
      ]
    },
    {
      "cell_type": "code",
      "source": [
        "from datasets import load_dataset\n",
        "data_files = {\"train\": \"sent_train.csv\", \"test\": \"sent_valid.csv\"}\n",
        "dataset = load_dataset(\"zeroshot/twitter-financial-news-sentiment\", data_files=data_files)"
      ],
      "metadata": {
        "id": "PzVZ-BwNOKgx"
      },
      "execution_count": null,
      "outputs": []
    },
    {
      "cell_type": "code",
      "source": [
        "dataset"
      ],
      "metadata": {
        "colab": {
          "base_uri": "https://localhost:8080/"
        },
        "id": "ZFHrXcivQj1M",
        "outputId": "05bea801-d47a-4b77-e150-bbbb76704653"
      },
      "execution_count": null,
      "outputs": [
        {
          "output_type": "execute_result",
          "data": {
            "text/plain": [
              "DatasetDict({\n",
              "    train: Dataset({\n",
              "        features: ['text', 'label'],\n",
              "        num_rows: 9543\n",
              "    })\n",
              "    test: Dataset({\n",
              "        features: ['text', 'label'],\n",
              "        num_rows: 2388\n",
              "    })\n",
              "})"
            ]
          },
          "metadata": {},
          "execution_count": 4
        }
      ]
    },
    {
      "cell_type": "code",
      "source": [
        "sentiments = {\n",
        "    0: \"Bearish\", \n",
        "    1: \"Bullish\", \n",
        "    2: \"Neutral\"\n",
        "}\n"
      ],
      "metadata": {
        "id": "y0fPZOBmV4XW"
      },
      "execution_count": null,
      "outputs": []
    },
    {
      "cell_type": "markdown",
      "source": [
        "Distribution of Sentiments"
      ],
      "metadata": {
        "id": "D5TLyhtgXZpz"
      }
    },
    {
      "cell_type": "code",
      "source": [
        "import matplotlib.pyplot as plt\n",
        "import numpy as np\n",
        "\n",
        "(n, bins, patches) = plt.hist( x = [np.asarray(dataset['train']['label']) , np.asarray(dataset['test']['label'])  ]\n",
        "          , bins= [0,1,2,3]\n",
        "         , align = 'mid'\n",
        "         , rwidth = 0.75\n",
        "         , histtype = 'bar'\n",
        "         )\n",
        "\n",
        "plt.legend(['Train','Test'])\n",
        "plt.title('Distribution of Labels')"
      ],
      "metadata": {
        "colab": {
          "base_uri": "https://localhost:8080/",
          "height": 388
        },
        "id": "dCJXPVuBXepM",
        "outputId": "f2fd0fb8-21a2-44ab-cc77-65d4069d69db"
      },
      "execution_count": null,
      "outputs": [
        {
          "output_type": "stream",
          "name": "stderr",
          "text": [
            "/usr/local/lib/python3.8/dist-packages/numpy/core/fromnumeric.py:3208: VisibleDeprecationWarning: Creating an ndarray from ragged nested sequences (which is a list-or-tuple of lists-or-tuples-or ndarrays with different lengths or shapes) is deprecated. If you meant to do this, you must specify 'dtype=object' when creating the ndarray.\n",
            "  return asarray(a).size\n",
            "/usr/local/lib/python3.8/dist-packages/matplotlib/cbook/__init__.py:1376: VisibleDeprecationWarning: Creating an ndarray from ragged nested sequences (which is a list-or-tuple of lists-or-tuples-or ndarrays with different lengths or shapes) is deprecated. If you meant to do this, you must specify 'dtype=object' when creating the ndarray.\n",
            "  X = np.atleast_1d(X.T if isinstance(X, np.ndarray) else np.asarray(X))\n"
          ]
        },
        {
          "output_type": "execute_result",
          "data": {
            "text/plain": [
              "Text(0.5, 1.0, 'Distribution of Labels')"
            ]
          },
          "metadata": {},
          "execution_count": 6
        },
        {
          "output_type": "display_data",
          "data": {
            "text/plain": [
              "<Figure size 432x288 with 1 Axes>"
            ],
            "image/png": "[encoded data removed]"
          },
          "metadata": {
            "needs_background": "light"
          }
        }
      ]
    },
    {
      "cell_type": "code",
      "source": [
        "# relative percentage of each label\n",
        "\n",
        "n/np.sum(n, axis =1, keepdims = True)"
      ],
      "metadata": {
        "colab": {
          "base_uri": "https://localhost:8080/"
        },
        "id": "fLMj-Z6sdVJK",
        "outputId": "bd386156-8df7-4166-a11c-11ab9ab40fd4"
      },
      "execution_count": null,
      "outputs": [
        {
          "output_type": "execute_result",
          "data": {
            "text/plain": [
              "array([[0.15110552, 0.20150896, 0.64738552],\n",
              "       [0.14530988, 0.19891122, 0.65577889]])"
            ]
          },
          "metadata": {},
          "execution_count": 7
        }
      ]
    },
    {
      "cell_type": "markdown",
      "source": [
        "# Zero-Shot Learning\n",
        "Default model\n",
        "\n",
        "[Link](https://huggingface.co/datasets/zeroshot/twitter-financial-news-sentiment)"
      ],
      "metadata": {
        "id": "SjyWdBkZPSEK"
      }
    },
    {
      "cell_type": "code",
      "source": [
        "train_rawdata = dataset[\"train\"]\n",
        "train_rawdata[0]"
      ],
      "metadata": {
        "colab": {
          "base_uri": "https://localhost:8080/"
        },
        "id": "NDzZ2XsQPOKJ",
        "outputId": "272cb8ee-94ee-42f8-d763-3c35365b6847"
      },
      "execution_count": null,
      "outputs": [
        {
          "output_type": "execute_result",
          "data": {
            "text/plain": [
              "{'text': '$BYND - JPMorgan reels in expectations on Beyond Meat https://t.co/bd0xbFGjkT',\n",
              " 'label': 0}"
            ]
          },
          "metadata": {},
          "execution_count": 8
        }
      ]
    },
    {
      "cell_type": "code",
      "source": [
        "train_rawdata[0]['text']"
      ],
      "metadata": {
        "colab": {
          "base_uri": "https://localhost:8080/",
          "height": 35
        },
        "id": "7u_s1sTCSb7c",
        "outputId": "ff8776c0-2219-426b-830a-c4bcc178ecba"
      },
      "execution_count": null,
      "outputs": [
        {
          "output_type": "execute_result",
          "data": {
            "text/plain": [
              "'$BYND - JPMorgan reels in expectations on Beyond Meat https://t.co/bd0xbFGjkT'"
            ],
            "application/vnd.google.colaboratory.intrinsic+json": {
              "type": "string"
            }
          },
          "metadata": {},
          "execution_count": 9
        }
      ]
    },
    {
      "cell_type": "code",
      "source": [
        "from transformers import pipeline\n",
        "\n",
        "sent_zsc =pipeline(\"zero-shot-classification\")\n",
        "ans = sent_zsc(train_rawdata[0]['text'],\n",
        "                          candidate_labels = ['Bearish','Bullish','Neutral'])"
      ],
      "metadata": {
        "id": "008EirzFQfj2"
      },
      "execution_count": null,
      "outputs": []
    },
    {
      "cell_type": "code",
      "source": [
        "ans"
      ],
      "metadata": {
        "colab": {
          "base_uri": "https://localhost:8080/"
        },
        "id": "SB-RXPnNReFK",
        "outputId": "a0c48865-81db-42f7-f812-44919c26883a"
      },
      "execution_count": null,
      "outputs": [
        {
          "output_type": "execute_result",
          "data": {
            "text/plain": [
              "{'sequence': '$BYND - JPMorgan reels in expectations on Beyond Meat https://t.co/bd0xbFGjkT',\n",
              " 'labels': ['Bearish', 'Neutral', 'Bullish'],\n",
              " 'scores': [0.49485671520233154, 0.3841414749622345, 0.12100183218717575]}"
            ]
          },
          "metadata": {},
          "execution_count": 11
        }
      ]
    },
    {
      "cell_type": "code",
      "source": [
        "# prediction with highest probability\n",
        "ans['labels'][np.argmax(ans['scores'])]"
      ],
      "metadata": {
        "colab": {
          "base_uri": "https://localhost:8080/",
          "height": 35
        },
        "id": "OLC_ngyHTT3Z",
        "outputId": "7195ca99-4880-477f-9332-61469168f897"
      },
      "execution_count": null,
      "outputs": [
        {
          "output_type": "execute_result",
          "data": {
            "text/plain": [
              "'Bearish'"
            ],
            "application/vnd.google.colaboratory.intrinsic+json": {
              "type": "string"
            }
          },
          "metadata": {},
          "execution_count": 12
        }
      ]
    },
    {
      "cell_type": "code",
      "source": [
        "sentiments[train_rawdata[0]['label']]"
      ],
      "metadata": {
        "colab": {
          "base_uri": "https://localhost:8080/",
          "height": 35
        },
        "id": "HJfVUhtqWdY8",
        "outputId": "19fd1e24-d07a-4dcf-b102-948f3626f59f"
      },
      "execution_count": null,
      "outputs": [
        {
          "output_type": "execute_result",
          "data": {
            "text/plain": [
              "'Bearish'"
            ],
            "application/vnd.google.colaboratory.intrinsic+json": {
              "type": "string"
            }
          },
          "metadata": {},
          "execution_count": 13
        }
      ]
    },
    {
      "cell_type": "code",
      "source": [
        "ans['labels'][np.argmax(ans['scores'])] == sentiments[train_rawdata[0]['label']]"
      ],
      "metadata": {
        "colab": {
          "base_uri": "https://localhost:8080/"
        },
        "id": "s0rTSTY8UyGl",
        "outputId": "8b0b84b3-840c-4966-fc01-782f8974f611"
      },
      "execution_count": null,
      "outputs": [
        {
          "output_type": "execute_result",
          "data": {
            "text/plain": [
              "True"
            ]
          },
          "metadata": {},
          "execution_count": 14
        }
      ]
    },
    {
      "cell_type": "code",
      "source": [
        "sent_zsc = pipeline(\"zero-shot-classification\", model = 'facebook/bart-large-mnli')"
      ],
      "metadata": {
        "id": "8ugdSDpBWFqK"
      },
      "execution_count": null,
      "outputs": []
    },
    {
      "cell_type": "code",
      "source": [
        "preds = sent_zsc(\n",
        "    train_rawdata['text'][0:10]\n",
        "    , candidate_labels =  [x for x in sentiments.values()]\n",
        "\n",
        ")"
      ],
      "metadata": {
        "id": "Peu107ZbWP9I"
      },
      "execution_count": null,
      "outputs": []
    },
    {
      "cell_type": "code",
      "source": [
        "def compare(x):\n",
        "  return x['labels'][np.argmax(x['scores'])] == sentiments[train_rawdata[0]['label']]"
      ],
      "metadata": {
        "id": "hLMzL7k9htIe"
      },
      "execution_count": null,
      "outputs": []
    },
    {
      "cell_type": "code",
      "source": [
        "for i in range(10):\n",
        "  print(i, compare(preds[i]))"
      ],
      "metadata": {
        "colab": {
          "base_uri": "https://localhost:8080/"
        },
        "id": "FOJlZPDniRdh",
        "outputId": "bff4447b-b816-4afe-dd06-6943e5a215d9"
      },
      "execution_count": null,
      "outputs": [
        {
          "output_type": "stream",
          "name": "stdout",
          "text": [
            "0 True\n",
            "1 True\n",
            "2 True\n",
            "3 False\n",
            "4 True\n",
            "5 True\n",
            "6 True\n",
            "7 True\n",
            "8 True\n",
            "9 True\n"
          ]
        }
      ]
    },
    {
      "cell_type": "code",
      "source": [
        "x = preds[3]\n",
        "\n",
        "print(x['sequence'])\n",
        "print(x['labels'])\n",
        "print(x['scores'])\n",
        "print('prediction:',x['labels'][np.argmax(x['scores'])])\n",
        "print('actual:',sentiments[train_rawdata[0]['label']])"
      ],
      "metadata": {
        "colab": {
          "base_uri": "https://localhost:8080/"
        },
        "id": "iGvBBGhqijtR",
        "outputId": "3372c577-0bba-4d8d-eb9d-e9030f546a68"
      },
      "execution_count": null,
      "outputs": [
        {
          "output_type": "stream",
          "name": "stdout",
          "text": [
            "$ESS: BTIG Research cuts to Neutral https://t.co/MCyfTsXc2N\n",
            "['Neutral', 'Bearish', 'Bullish']\n",
            "[0.9254097938537598, 0.06001339852809906, 0.014576745219528675]\n",
            "prediction: Neutral\n",
            "actual: Bearish\n"
          ]
        }
      ]
    },
    {
      "cell_type": "code",
      "source": [
        "test_rawdata = dataset[\"test\"]\n",
        "test_rawdata[0:10]"
      ],
      "metadata": {
        "colab": {
          "base_uri": "https://localhost:8080/"
        },
        "id": "q6HNKEZk0juf",
        "outputId": "478978c5-4897-4d72-9698-815905270b60"
      },
      "execution_count": null,
      "outputs": [
        {
          "output_type": "execute_result",
          "data": {
            "text/plain": [
              "{'text': ['$ALLY - Ally Financial pulls outlook https://t.co/G9Zdi1boy5',\n",
              "  '$DELL $HPE - Dell, HPE targets trimmed on compute headwinds https://t.co/YRUHZw7cYl',\n",
              "  \"$PRTY - Moody's turns negative on Party City https://t.co/MBD5TFGC4P\",\n",
              "  '$SAN: Deutsche Bank cuts to Hold',\n",
              "  '$SITC: Compass Point cuts to Sell',\n",
              "  '$TAP - Barclays cools on Molson Coors https://t.co/FJFsZWJHuH',\n",
              "  '$TAP: Barclays cuts to Equal Weight',\n",
              "  'Analysts Eviscerate Musk\\'s Cybertruck: \"0% Of Responses Felt It Will Be A Success\" https://t.co/2NTzeZea4G',\n",
              "  'Barclays assigns only a 20% chance that studies on a Gilead antiviral drug being done in China will succeed against… https://t.co/lIgDhy1Gli',\n",
              "  \"BTIG points to breakfast pressure for Dunkin' Brands\"],\n",
              " 'label': [0, 0, 0, 0, 0, 0, 0, 0, 0, 0]}"
            ]
          },
          "metadata": {},
          "execution_count": 20
        }
      ]
    },
    {
      "cell_type": "code",
      "source": [
        "import re\n",
        "\n",
        "def process_tweet(tweet):\n",
        "    # remove stock market tickers like $GE\n",
        "    tweet = re.sub(r'\\$\\w*', '', tweet)\n",
        "    # remove old style retweet text \"RT\"\n",
        "    tweet = re.sub(r'^RT[\\s]+', '', tweet)\n",
        "    # remove hyperlinks\n",
        "    tweet = re.sub(r'https?:\\/\\/.*[\\r\\n]*', '', tweet)\n",
        "    # remove hashtags\n",
        "    # only removing the hash # sign from the word\n",
        "    tweet = re.sub(r'#', '', tweet)\n",
        "\n",
        "    return tweet"
      ],
      "metadata": {
        "id": "4ouPO_uA9ZPE"
      },
      "execution_count": null,
      "outputs": []
    },
    {
      "cell_type": "code",
      "source": [
        "test_data = [ process_tweet(twt) for twt in test_rawdata['text'] ]\n",
        "#test_rawdata['label']\n",
        "test_data[0:10]"
      ],
      "metadata": {
        "colab": {
          "base_uri": "https://localhost:8080/"
        },
        "id": "aTIJ-hny-gUa",
        "outputId": "3b913021-66a1-405c-e1f3-ceb05fbce401"
      },
      "execution_count": null,
      "outputs": [
        {
          "output_type": "execute_result",
          "data": {
            "text/plain": [
              "[' - Ally Financial pulls outlook ',\n",
              " '  - Dell, HPE targets trimmed on compute headwinds ',\n",
              " \" - Moody's turns negative on Party City \",\n",
              " ': Deutsche Bank cuts to Hold',\n",
              " ': Compass Point cuts to Sell',\n",
              " ' - Barclays cools on Molson Coors ',\n",
              " ': Barclays cuts to Equal Weight',\n",
              " 'Analysts Eviscerate Musk\\'s Cybertruck: \"0% Of Responses Felt It Will Be A Success\" ',\n",
              " 'Barclays assigns only a 20% chance that studies on a Gilead antiviral drug being done in China will succeed against… ',\n",
              " \"BTIG points to breakfast pressure for Dunkin' Brands\"]"
            ]
          },
          "metadata": {},
          "execution_count": 22
        }
      ]
    },
    {
      "cell_type": "code",
      "source": [
        "idx0 = [idx for idx,lbl in enumerate(test_rawdata['label']) if test_rawdata['label'][idx] == 0]\n",
        "idx1 = [idx for idx,lbl in enumerate(test_rawdata['label']) if test_rawdata['label'][idx] == 1]\n",
        "idx2 = [idx for idx,lbl in enumerate(test_rawdata['label']) if test_rawdata['label'][idx] == 2]"
      ],
      "metadata": {
        "id": "8XWztrbuDCZO"
      },
      "execution_count": null,
      "outputs": []
    },
    {
      "cell_type": "code",
      "source": [
        "len(idx0) , len(idx1) , len(idx2)"
      ],
      "metadata": {
        "colab": {
          "base_uri": "https://localhost:8080/"
        },
        "id": "uA7qs2DhGJk7",
        "outputId": "dc766359-95f4-4e57-f095-60122bb78fc9"
      },
      "execution_count": null,
      "outputs": [
        {
          "output_type": "execute_result",
          "data": {
            "text/plain": [
              "(347, 475, 1566)"
            ]
          },
          "metadata": {},
          "execution_count": 24
        }
      ]
    },
    {
      "cell_type": "code",
      "source": [
        "n = 33\n",
        "sample_idx= idx0[0:n] + idx1[0:n] + idx2[0:n] \n"
      ],
      "metadata": {
        "id": "mTy7Xn0nGKHd"
      },
      "execution_count": null,
      "outputs": []
    },
    {
      "cell_type": "code",
      "source": [
        "sample_data = []\n",
        "sample_label = []\n",
        "\n",
        "for idx in sample_idx:\n",
        "  sample_data.append(test_data[idx])\n",
        "  sample_label.append(test_rawdata['label'][idx])\n",
        "\n",
        "sample_data[0]"
      ],
      "metadata": {
        "colab": {
          "base_uri": "https://localhost:8080/",
          "height": 35
        },
        "id": "WwX2ZZYxHCjV",
        "outputId": "9e317847-35f8-42be-b3a5-7ba693478f24"
      },
      "execution_count": null,
      "outputs": [
        {
          "output_type": "execute_result",
          "data": {
            "text/plain": [
              "' - Ally Financial pulls outlook '"
            ],
            "application/vnd.google.colaboratory.intrinsic+json": {
              "type": "string"
            }
          },
          "metadata": {},
          "execution_count": 26
        }
      ]
    },
    {
      "cell_type": "code",
      "source": [
        "preds = sent_zsc(\n",
        "    sample_data\n",
        "    , candidate_labels =  [x for x in sentiments.values()]\n",
        ")\n",
        "\n",
        "preds[-5]"
      ],
      "metadata": {
        "colab": {
          "base_uri": "https://localhost:8080/"
        },
        "id": "vOFMO5ta_gcR",
        "outputId": "205e4a91-c15a-4800-a202-fa1253db208f"
      },
      "execution_count": null,
      "outputs": [
        {
          "output_type": "execute_result",
          "data": {
            "text/plain": [
              "{'sequence': 'Central banks don’t have as much monetary policy power as they used to, former BOE policy maker Ian McCafferty says ',\n",
              " 'labels': ['Neutral', 'Bearish', 'Bullish'],\n",
              " 'scores': [0.48675984144210815, 0.3307627737522125, 0.1824774295091629]}"
            ]
          },
          "metadata": {},
          "execution_count": 27
        }
      ]
    },
    {
      "cell_type": "code",
      "source": [
        "cnt = 0\n",
        "idx_wrong = []\n",
        "for i in range(len(sample_data)):\n",
        "  if preds[i]['labels'][np.argmax(preds[i]['scores'])] == sentiments[sample_label[i]]:\n",
        "    cnt +=1\n",
        "  else:\n",
        "    idx_wrong.append(i)\n",
        "\n",
        "print(cnt/len(sample_data)*100, '% accuracy')\n",
        "print(idx_wrong)"
      ],
      "metadata": {
        "colab": {
          "base_uri": "https://localhost:8080/"
        },
        "id": "fEo6xzAiLPCW",
        "outputId": "85221c92-992d-4d2a-96fd-7343963636f7"
      },
      "execution_count": null,
      "outputs": [
        {
          "output_type": "stream",
          "name": "stdout",
          "text": [
            "70.70707070707071 % accuracy\n"
          ]
        }
      ]
    },
    {
      "cell_type": "markdown",
      "source": [
        "## Other models"
      ],
      "metadata": {
        "id": "QxBX1YmuxAaV"
      }
    },
    {
      "cell_type": "markdown",
      "source": [
        "Models\n",
        "\n",
        "\n",
        "1. ProsusAI/finbert\n",
        "2. finiteautomata/bertweet-base-sentiment-analysis\n",
        "3. yiyanghkust/finbert-tone\n",
        "4. cardiffnlp/twitter-roberta-base-sentiment\n",
        "5. mrm8488/distilroberta-finetuned-financial-news-sentiment-analysis\n",
        "6. soleimanian/financial-roberta-large-sentiment\n",
        "7. ahmedrachid/FinancialBERT-Sentiment-Analysis\n",
        "8. nickmuchi/finbert-tone-finetuned-fintwitter-classification (*yiyanghkust/finbert-tone tuned on this dataset*)\n",
        "\n",
        "\n",
        "\n",
        "\n",
        "\n",
        "\n",
        "\n",
        "\n",
        "\n"
      ],
      "metadata": {
        "id": "ey_tvIyvyRG_"
      }
    },
    {
      "cell_type": "code",
      "source": [
        "models = ['ProsusAI/finbert'\n",
        "    , 'finiteautomata/bertweet-base-sentiment-analysis'\n",
        "    , 'yiyanghkust/finbert-tone'\n",
        "    , 'cardiffnlp/twitter-roberta-base-sentiment'\n",
        "    , 'mrm8488/distilroberta-finetuned-financial-news-sentiment-analysis'\n",
        "    , 'soleimanian/financial-roberta-large-sentiment'\n",
        "    , 'ahmedrachid/FinancialBERT-Sentiment-Analysis'\n",
        "    , 'nickmuchi/finbert-tone-finetuned-fintwitter-classification'\n",
        "]"
      ],
      "metadata": {
        "id": "UW1kf7Z0xVP6"
      },
      "execution_count": null,
      "outputs": []
    },
    {
      "cell_type": "code",
      "source": [
        "#can't use above models with zero shot as they are not trained for that\n",
        "#need to use them for sentiment classification using TFAutoModel (with/out fine tuning)\n"
      ],
      "metadata": {
        "id": "wtVUxXw-zmLN"
      },
      "execution_count": null,
      "outputs": []
    }
  ]
}