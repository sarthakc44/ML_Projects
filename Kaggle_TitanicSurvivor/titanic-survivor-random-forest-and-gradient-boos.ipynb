{
 "cells": [
  {
   "cell_type": "code",
   "execution_count": 1,
   "id": "a9a1a4c7",
   "metadata": {
    "_cell_guid": "b1076dfc-b9ad-4769-8c92-a6c4dae69d19",
    "_uuid": "8f2839f25d086af736a60e9eeb907d3b93b6e0e5",
    "execution": {
     "iopub.execute_input": "2022-09-12T14:55:51.021791Z",
     "iopub.status.busy": "2022-09-12T14:55:51.021302Z",
     "iopub.status.idle": "2022-09-12T14:55:51.043006Z",
     "shell.execute_reply": "2022-09-12T14:55:51.042145Z"
    },
    "papermill": {
     "duration": 0.032153,
     "end_time": "2022-09-12T14:55:51.046040",
     "exception": false,
     "start_time": "2022-09-12T14:55:51.013887",
     "status": "completed"
    },
    "tags": []
   },
   "outputs": [
    {
     "name": "stdout",
     "output_type": "stream",
     "text": [
      "/kaggle/input/titanic-preprocessed/X_train\n",
      "/kaggle/input/titanic-preprocessed/X_test\n",
      "/kaggle/input/titanic-preprocessed/y_train\n"
     ]
    }
   ],
   "source": [
    "# This Python 3 environment comes with many helpful analytics libraries installed\n",
    "# It is defined by the kaggle/python Docker image: https://github.com/kaggle/docker-python\n",
    "# For example, here's several helpful packages to load\n",
    "\n",
    "import numpy as np # linear algebra\n",
    "import pandas as pd # data processing, CSV file I/O (e.g. pd.read_csv)\n",
    "\n",
    "# Input data files are available in the read-only \"../input/\" directory\n",
    "# For example, running this (by clicking run or pressing Shift+Enter) will list all files under the input directory\n",
    "\n",
    "import os\n",
    "for dirname, _, filenames in os.walk('/kaggle/input'):\n",
    "    for filename in filenames:\n",
    "        print(os.path.join(dirname, filename))\n",
    "\n",
    "# You can write up to 20GB to the current directory (/kaggle/working/) that gets preserved as output when you create a version using \"Save & Run All\" \n",
    "# You can also write temporary files to /kaggle/temp/, but they won't be saved outside of the current session"
   ]
  },
  {
   "cell_type": "code",
   "execution_count": 2,
   "id": "14686adf",
   "metadata": {
    "execution": {
     "iopub.execute_input": "2022-09-12T14:55:51.056867Z",
     "iopub.status.busy": "2022-09-12T14:55:51.056438Z",
     "iopub.status.idle": "2022-09-12T14:55:51.091017Z",
     "shell.execute_reply": "2022-09-12T14:55:51.090033Z"
    },
    "papermill": {
     "duration": 0.043333,
     "end_time": "2022-09-12T14:55:51.093917",
     "exception": false,
     "start_time": "2022-09-12T14:55:51.050584",
     "status": "completed"
    },
    "tags": []
   },
   "outputs": [],
   "source": [
    "X_train = pd.read_csv(os.path.join(dirname, filenames[0]))\n",
    "X_test = pd.read_csv(os.path.join(dirname, filenames[1]))\n",
    "y_train = pd.read_csv(os.path.join(dirname, filenames[2]))"
   ]
  },
  {
   "cell_type": "code",
   "execution_count": 3,
   "id": "13bed043",
   "metadata": {
    "execution": {
     "iopub.execute_input": "2022-09-12T14:55:51.104583Z",
     "iopub.status.busy": "2022-09-12T14:55:51.104172Z",
     "iopub.status.idle": "2022-09-12T14:55:51.132015Z",
     "shell.execute_reply": "2022-09-12T14:55:51.130812Z"
    },
    "papermill": {
     "duration": 0.036454,
     "end_time": "2022-09-12T14:55:51.134856",
     "exception": false,
     "start_time": "2022-09-12T14:55:51.098402",
     "status": "completed"
    },
    "tags": []
   },
   "outputs": [
    {
     "data": {
      "text/html": [
       "<div>\n",
       "<style scoped>\n",
       "    .dataframe tbody tr th:only-of-type {\n",
       "        vertical-align: middle;\n",
       "    }\n",
       "\n",
       "    .dataframe tbody tr th {\n",
       "        vertical-align: top;\n",
       "    }\n",
       "\n",
       "    .dataframe thead th {\n",
       "        text-align: right;\n",
       "    }\n",
       "</style>\n",
       "<table border=\"1\" class=\"dataframe\">\n",
       "  <thead>\n",
       "    <tr style=\"text-align: right;\">\n",
       "      <th></th>\n",
       "      <th>Survived</th>\n",
       "    </tr>\n",
       "    <tr>\n",
       "      <th>PassengerId</th>\n",
       "      <th></th>\n",
       "    </tr>\n",
       "  </thead>\n",
       "  <tbody>\n",
       "    <tr>\n",
       "      <th>1</th>\n",
       "      <td>0</td>\n",
       "    </tr>\n",
       "    <tr>\n",
       "      <th>2</th>\n",
       "      <td>1</td>\n",
       "    </tr>\n",
       "    <tr>\n",
       "      <th>3</th>\n",
       "      <td>1</td>\n",
       "    </tr>\n",
       "    <tr>\n",
       "      <th>4</th>\n",
       "      <td>1</td>\n",
       "    </tr>\n",
       "    <tr>\n",
       "      <th>5</th>\n",
       "      <td>0</td>\n",
       "    </tr>\n",
       "  </tbody>\n",
       "</table>\n",
       "</div>"
      ],
      "text/plain": [
       "             Survived\n",
       "PassengerId          \n",
       "1                   0\n",
       "2                   1\n",
       "3                   1\n",
       "4                   1\n",
       "5                   0"
      ]
     },
     "execution_count": 3,
     "metadata": {},
     "output_type": "execute_result"
    }
   ],
   "source": [
    "X_train.set_index('PassengerId', inplace = True)\n",
    "y_train.set_index('PassengerId', inplace = True)\n",
    "X_test.set_index('PassengerId', inplace = True)\n",
    "\n",
    "y_train.head()"
   ]
  },
  {
   "cell_type": "code",
   "execution_count": 4,
   "id": "7b8beefe",
   "metadata": {
    "execution": {
     "iopub.execute_input": "2022-09-12T14:55:51.147027Z",
     "iopub.status.busy": "2022-09-12T14:55:51.145803Z",
     "iopub.status.idle": "2022-09-12T14:55:52.771467Z",
     "shell.execute_reply": "2022-09-12T14:55:52.770331Z"
    },
    "papermill": {
     "duration": 1.634478,
     "end_time": "2022-09-12T14:55:52.774411",
     "exception": false,
     "start_time": "2022-09-12T14:55:51.139933",
     "status": "completed"
    },
    "tags": []
   },
   "outputs": [],
   "source": [
    "from sklearn.ensemble import RandomForestClassifier, AdaBoostClassifier\n",
    "from xgboost import XGBClassifier\n",
    "\n",
    "from sklearn.model_selection import train_test_split\n",
    "from sklearn.metrics import accuracy_score, precision_score, confusion_matrix, f1_score\n",
    "\n",
    "import matplotlib.pyplot as plt"
   ]
  },
  {
   "cell_type": "code",
   "execution_count": 5,
   "id": "69c90e7c",
   "metadata": {
    "execution": {
     "iopub.execute_input": "2022-09-12T14:55:52.785904Z",
     "iopub.status.busy": "2022-09-12T14:55:52.784641Z",
     "iopub.status.idle": "2022-09-12T14:55:52.790404Z",
     "shell.execute_reply": "2022-09-12T14:55:52.789418Z"
    },
    "papermill": {
     "duration": 0.013896,
     "end_time": "2022-09-12T14:55:52.792790",
     "exception": false,
     "start_time": "2022-09-12T14:55:52.778894",
     "status": "completed"
    },
    "tags": []
   },
   "outputs": [],
   "source": [
    "y = y_train['Survived']"
   ]
  },
  {
   "cell_type": "code",
   "execution_count": 6,
   "id": "b4d59167",
   "metadata": {
    "execution": {
     "iopub.execute_input": "2022-09-12T14:55:52.805227Z",
     "iopub.status.busy": "2022-09-12T14:55:52.802957Z",
     "iopub.status.idle": "2022-09-12T14:56:11.134928Z",
     "shell.execute_reply": "2022-09-12T14:56:11.133756Z"
    },
    "papermill": {
     "duration": 18.340481,
     "end_time": "2022-09-12T14:56:11.137767",
     "exception": false,
     "start_time": "2022-09-12T14:55:52.797286",
     "status": "completed"
    },
    "tags": []
   },
   "outputs": [
    {
     "data": {
      "text/plain": [
       "<matplotlib.legend.Legend at 0x7f229fd48510>"
      ]
     },
     "execution_count": 6,
     "metadata": {},
     "output_type": "execute_result"
    },
    {
     "data": {
      "image/png": "[encoded data removed]",
      "text/plain": [
       "<Figure size 432x288 with 1 Axes>"
      ]
     },
     "metadata": {
      "needs_background": "light"
     },
     "output_type": "display_data"
    }
   ],
   "source": [
    "xtrn, xval, ytrn, yval = train_test_split(X_train, y, test_size = 0.3, stratify = y)\n",
    "\n",
    "f1_trn = []\n",
    "f1_val = []\n",
    "\n",
    "itr = 0\n",
    "\n",
    "param_ne = []\n",
    "param_md = []\n",
    "\n",
    "for ne in range(50,250,50):\n",
    "    for md in range(3,20):\n",
    "    \n",
    "        rf = RandomForestClassifier(n_estimators = ne, max_depth=md)\n",
    "        \n",
    "        #rf = RandomForestClassifier(n_estimators = ne)\n",
    "        #rf = RandomForestClassifier(max_depth=md)\n",
    "        rf.fit(xtrn,ytrn)\n",
    "\n",
    "        ypred = rf.predict(xtrn)\n",
    "        f1_trn.append(f1_score(ytrn, ypred))\n",
    "\n",
    "        ypred = rf.predict(xval)\n",
    "        f1_val.append(f1_score(yval, ypred))\n",
    "\n",
    "        param_ne.append(ne)\n",
    "        param_md.append(md)\n",
    "\n",
    "        itr +=1\n",
    "\n",
    "\n",
    "plt.plot(f1_trn)\n",
    "plt.plot(f1_val)\n",
    "plt.legend(['Train','Val'])\n",
    "\n"
   ]
  },
  {
   "cell_type": "code",
   "execution_count": 7,
   "id": "2eb3b7be",
   "metadata": {
    "execution": {
     "iopub.execute_input": "2022-09-12T14:56:11.150436Z",
     "iopub.status.busy": "2022-09-12T14:56:11.149926Z",
     "iopub.status.idle": "2022-09-12T14:56:11.259290Z",
     "shell.execute_reply": "2022-09-12T14:56:11.258052Z"
    },
    "papermill": {
     "duration": 0.119446,
     "end_time": "2022-09-12T14:56:11.262208",
     "exception": false,
     "start_time": "2022-09-12T14:56:11.142762",
     "status": "completed"
    },
    "tags": []
   },
   "outputs": [
    {
     "name": "stdout",
     "output_type": "stream",
     "text": [
      "[[149  16]\n",
      " [ 26  77]] 50 9\n"
     ]
    }
   ],
   "source": [
    "md = int(param_md[np.argmax(f1_val)])\n",
    "ne = int(param_ne[np.argmax(f1_val)])\n",
    "rf = RandomForestClassifier(n_estimators = ne,max_depth=md)\n",
    "rf.fit(xtrn,ytrn)\n",
    "ypred = rf.predict(xval)\n",
    "    \n",
    "cm = confusion_matrix(yval, ypred)\n",
    "\n",
    "print(cm, ne, md)"
   ]
  },
  {
   "cell_type": "code",
   "execution_count": 8,
   "id": "c8b8bc83",
   "metadata": {
    "execution": {
     "iopub.execute_input": "2022-09-12T14:56:11.275197Z",
     "iopub.status.busy": "2022-09-12T14:56:11.273986Z",
     "iopub.status.idle": "2022-09-12T14:56:11.394913Z",
     "shell.execute_reply": "2022-09-12T14:56:11.393812Z"
    },
    "papermill": {
     "duration": 0.130346,
     "end_time": "2022-09-12T14:56:11.397750",
     "exception": false,
     "start_time": "2022-09-12T14:56:11.267404",
     "status": "completed"
    },
    "tags": []
   },
   "outputs": [],
   "source": [
    "rf = RandomForestClassifier(n_estimators = ne,max_depth=md)\n",
    "rf.fit(X_train,y)\n",
    "ypred = rf.predict(X_test)\n",
    "\n",
    "rf_pred = pd.DataFrame()\n",
    "rf_pred['PassengerId'] = X_test.index\n",
    "rf_pred.set_index( 'PassengerId', inplace = True)\n",
    "rf_pred['Survived'] = ypred\n",
    "rf_pred.head()\n",
    "\n",
    "\n",
    "rf_pred.to_csv(r'Prediction_rf.csv')"
   ]
  },
  {
   "cell_type": "code",
   "execution_count": 9,
   "id": "4598980c",
   "metadata": {
    "execution": {
     "iopub.execute_input": "2022-09-12T14:56:11.410679Z",
     "iopub.status.busy": "2022-09-12T14:56:11.409653Z",
     "iopub.status.idle": "2022-09-12T14:56:29.756566Z",
     "shell.execute_reply": "2022-09-12T14:56:29.755160Z"
    },
    "papermill": {
     "duration": 18.356276,
     "end_time": "2022-09-12T14:56:29.759458",
     "exception": false,
     "start_time": "2022-09-12T14:56:11.403182",
     "status": "completed"
    },
    "tags": []
   },
   "outputs": [
    {
     "name": "stdout",
     "output_type": "stream",
     "text": [
      "[[156   9]\n",
      " [ 27  76]] 200 5\n"
     ]
    },
    {
     "data": {
      "image/png": "[encoded data removed]",
      "text/plain": [
       "<Figure size 432x288 with 1 Axes>"
      ]
     },
     "metadata": {
      "needs_background": "light"
     },
     "output_type": "display_data"
    }
   ],
   "source": [
    "#No fare\n",
    "xtrn, xval, ytrn, yval = train_test_split(X_train.drop(columns=['Fare Imp']), y, test_size = 0.3, stratify = y)\n",
    "\n",
    "f1_trn = []\n",
    "f1_val = []\n",
    "\n",
    "itr = 0\n",
    "\n",
    "param_ne = []\n",
    "param_md = []\n",
    "\n",
    "for ne in range(50,250,50):\n",
    "    for md in range(3,20):\n",
    "    \n",
    "        rf = RandomForestClassifier(n_estimators = ne, max_depth=md)\n",
    "        \n",
    "        #rf = RandomForestClassifier(n_estimators = ne)\n",
    "        #rf = RandomForestClassifier(max_depth=md)\n",
    "        rf.fit(xtrn,ytrn)\n",
    "\n",
    "        ypred = rf.predict(xtrn)\n",
    "        f1_trn.append(f1_score(ytrn, ypred))\n",
    "\n",
    "        ypred = rf.predict(xval)\n",
    "        f1_val.append(f1_score(yval, ypred))\n",
    "\n",
    "        param_ne.append(ne)\n",
    "        param_md.append(md)\n",
    "\n",
    "        itr +=1\n",
    "\n",
    "\n",
    "plt.plot(f1_trn)\n",
    "plt.plot(f1_val)\n",
    "plt.legend(['Train','Val'])\n",
    "\n",
    "md = int(param_md[np.argmax(f1_val)])\n",
    "ne = int(param_ne[np.argmax(f1_val)])\n",
    "rf = RandomForestClassifier(n_estimators = ne,max_depth=md)\n",
    "rf.fit(xtrn,ytrn)\n",
    "ypred = rf.predict(xval)\n",
    "    \n",
    "cm = confusion_matrix(yval, ypred)\n",
    "\n",
    "print(cm, ne, md)"
   ]
  },
  {
   "cell_type": "code",
   "execution_count": 10,
   "id": "dc8c7220",
   "metadata": {
    "execution": {
     "iopub.execute_input": "2022-09-12T14:56:29.773030Z",
     "iopub.status.busy": "2022-09-12T14:56:29.772600Z",
     "iopub.status.idle": "2022-09-12T14:56:30.150067Z",
     "shell.execute_reply": "2022-09-12T14:56:30.148953Z"
    },
    "papermill": {
     "duration": 0.3876,
     "end_time": "2022-09-12T14:56:30.153029",
     "exception": false,
     "start_time": "2022-09-12T14:56:29.765429",
     "status": "completed"
    },
    "tags": []
   },
   "outputs": [],
   "source": [
    "rf = RandomForestClassifier(n_estimators = ne,max_depth=md)\n",
    "rf.fit(X_train.drop(columns=['Fare Imp']),y)\n",
    "ypred = rf.predict(X_test.drop(columns=['Fare Imp']))\n",
    "\n",
    "rf_pred = pd.DataFrame()\n",
    "rf_pred['PassengerId'] = X_test.index\n",
    "rf_pred.set_index( 'PassengerId', inplace = True)\n",
    "rf_pred['Survived'] = ypred\n",
    "rf_pred.head()\n",
    "\n",
    "\n",
    "rf_pred.to_csv(r'Prediction_rf1.csv')"
   ]
  },
  {
   "cell_type": "code",
   "execution_count": 11,
   "id": "71fab34d",
   "metadata": {
    "execution": {
     "iopub.execute_input": "2022-09-12T14:56:30.166769Z",
     "iopub.status.busy": "2022-09-12T14:56:30.166002Z",
     "iopub.status.idle": "2022-09-12T14:56:47.199497Z",
     "shell.execute_reply": "2022-09-12T14:56:47.198152Z"
    },
    "papermill": {
     "duration": 17.043304,
     "end_time": "2022-09-12T14:56:47.202106",
     "exception": false,
     "start_time": "2022-09-12T14:56:30.158802",
     "status": "completed"
    },
    "tags": []
   },
   "outputs": [
    {
     "name": "stdout",
     "output_type": "stream",
     "text": [
      "[[152  13]\n",
      " [ 45  58]] 100 4\n"
     ]
    },
    {
     "data": {
      "image/png": "[encoded data removed]",
      "text/plain": [
       "<Figure size 432x288 with 1 Axes>"
      ]
     },
     "metadata": {
      "needs_background": "light"
     },
     "output_type": "display_data"
    }
   ],
   "source": [
    "#No fare, age\n",
    "xtrn, xval, ytrn, yval = train_test_split(X_train.drop(columns=['Fare Imp','Age Imp']), y, test_size = 0.3, stratify = y)\n",
    "\n",
    "f1_trn = []\n",
    "f1_val = []\n",
    "\n",
    "itr = 0\n",
    "\n",
    "param_ne = []\n",
    "param_md = []\n",
    "\n",
    "for ne in range(50,250,50):\n",
    "    for md in range(3,20):\n",
    "    \n",
    "        rf = RandomForestClassifier(n_estimators = ne, max_depth=md)\n",
    "        \n",
    "        #rf = RandomForestClassifier(n_estimators = ne)\n",
    "        #rf = RandomForestClassifier(max_depth=md)\n",
    "        rf.fit(xtrn,ytrn)\n",
    "\n",
    "        ypred = rf.predict(xtrn)\n",
    "        f1_trn.append(f1_score(ytrn, ypred))\n",
    "\n",
    "        ypred = rf.predict(xval)\n",
    "        f1_val.append(f1_score(yval, ypred))\n",
    "\n",
    "        param_ne.append(ne)\n",
    "        param_md.append(md)\n",
    "\n",
    "        itr +=1\n",
    "\n",
    "\n",
    "plt.plot(f1_trn)\n",
    "plt.plot(f1_val)\n",
    "plt.legend(['Train','Val'])\n",
    "\n",
    "md = int(param_md[np.argmax(f1_val)])\n",
    "ne = int(param_ne[np.argmax(f1_val)])\n",
    "rf = RandomForestClassifier(n_estimators = ne,max_depth=md)\n",
    "rf.fit(xtrn,ytrn)\n",
    "ypred = rf.predict(xval)\n",
    "    \n",
    "cm = confusion_matrix(yval, ypred)\n",
    "\n",
    "print(cm, ne, md)"
   ]
  },
  {
   "cell_type": "code",
   "execution_count": 12,
   "id": "98683c5f",
   "metadata": {
    "execution": {
     "iopub.execute_input": "2022-09-12T14:56:47.217117Z",
     "iopub.status.busy": "2022-09-12T14:56:47.216189Z",
     "iopub.status.idle": "2022-09-12T14:56:47.419570Z",
     "shell.execute_reply": "2022-09-12T14:56:47.418630Z"
    },
    "papermill": {
     "duration": 0.213579,
     "end_time": "2022-09-12T14:56:47.422280",
     "exception": false,
     "start_time": "2022-09-12T14:56:47.208701",
     "status": "completed"
    },
    "tags": []
   },
   "outputs": [],
   "source": [
    "rf = RandomForestClassifier(n_estimators = ne,max_depth=md)\n",
    "rf.fit(X_train.drop(columns=['Fare Imp','Age Imp']),y)\n",
    "ypred = rf.predict(X_test.drop(columns=['Fare Imp','Age Imp']))\n",
    "\n",
    "rf_pred = pd.DataFrame()\n",
    "rf_pred['PassengerId'] = X_test.index\n",
    "rf_pred.set_index( 'PassengerId', inplace = True)\n",
    "rf_pred['Survived'] = ypred\n",
    "rf_pred.head()\n",
    "\n",
    "\n",
    "rf_pred.to_csv(r'Prediction_rf2.csv')"
   ]
  },
  {
   "cell_type": "code",
   "execution_count": null,
   "id": "9f4e251d",
   "metadata": {
    "papermill": {
     "duration": 0.005903,
     "end_time": "2022-09-12T14:56:47.434470",
     "exception": false,
     "start_time": "2022-09-12T14:56:47.428567",
     "status": "completed"
    },
    "tags": []
   },
   "outputs": [],
   "source": []
  }
 ],
 "metadata": {
  "kernelspec": {
   "display_name": "Python 3",
   "language": "python",
   "name": "python3"
  },
  "language_info": {
   "codemirror_mode": {
    "name": "ipython",
    "version": 3
   },
   "file_extension": ".py",
   "mimetype": "text/x-python",
   "name": "python",
   "nbconvert_exporter": "python",
   "pygments_lexer": "ipython3",
   "version": "3.7.12"
  },
  "papermill": {
   "default_parameters": {},
   "duration": 66.886835,
   "end_time": "2022-09-12T14:56:48.262390",
   "environment_variables": {},
   "exception": null,
   "input_path": "__notebook__.ipynb",
   "output_path": "__notebook__.ipynb",
   "parameters": {},
   "start_time": "2022-09-12T14:55:41.375555",
   "version": "2.3.4"
  }
 },
 "nbformat": 4,
 "nbformat_minor": 5
}
