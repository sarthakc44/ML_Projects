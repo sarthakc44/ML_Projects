{
 "cells": [
  {
   "cell_type": "code",
   "execution_count": 1,
   "id": "e0d5c107",
   "metadata": {
    "_cell_guid": "b1076dfc-b9ad-4769-8c92-a6c4dae69d19",
    "_uuid": "8f2839f25d086af736a60e9eeb907d3b93b6e0e5",
    "execution": {
     "iopub.execute_input": "2022-09-07T12:33:19.178705Z",
     "iopub.status.busy": "2022-09-07T12:33:19.178092Z",
     "iopub.status.idle": "2022-09-07T12:33:19.194410Z",
     "shell.execute_reply": "2022-09-07T12:33:19.193555Z"
    },
    "papermill": {
     "duration": 0.034264,
     "end_time": "2022-09-07T12:33:19.196742",
     "exception": false,
     "start_time": "2022-09-07T12:33:19.162478",
     "status": "completed"
    },
    "tags": []
   },
   "outputs": [
    {
     "name": "stdout",
     "output_type": "stream",
     "text": [
      "/kaggle/input/titanic/train.csv\n",
      "/kaggle/input/titanic/test.csv\n",
      "/kaggle/input/titanic/gender_submission.csv\n"
     ]
    }
   ],
   "source": [
    "# This Python 3 environment comes with many helpful analytics libraries installed\n",
    "# It is defined by the kaggle/python Docker image: https://github.com/kaggle/docker-python\n",
    "# For example, here's several helpful packages to load\n",
    "\n",
    "import numpy as np # linear algebra\n",
    "import pandas as pd # data processing, CSV file I/O (e.g. pd.read_csv)\n",
    "\n",
    "# Input data files are available in the read-only \"../input/\" directory\n",
    "# For example, running this (by clicking run or pressing Shift+Enter) will list all files under the input directory\n",
    "\n",
    "import os\n",
    "for dirname, _, filenames in os.walk('/kaggle/input/titanic'):\n",
    "    for filename in filenames:\n",
    "        print(os.path.join(dirname, filename))\n",
    "        \n",
    "\n",
    "# You can write up to 20GB to the current directory (/kaggle/working/) that gets preserved as output when you create a version using \"Save & Run All\" \n",
    "# You can also write temporary files to /kaggle/temp/, but they won't be saved outside of the current session"
   ]
  },
  {
   "cell_type": "code",
   "execution_count": 2,
   "id": "9c1eacd5",
   "metadata": {
    "execution": {
     "iopub.execute_input": "2022-09-07T12:33:19.222137Z",
     "iopub.status.busy": "2022-09-07T12:33:19.221713Z",
     "iopub.status.idle": "2022-09-07T12:33:19.248699Z",
     "shell.execute_reply": "2022-09-07T12:33:19.247833Z"
    },
    "papermill": {
     "duration": 0.042503,
     "end_time": "2022-09-07T12:33:19.251173",
     "exception": false,
     "start_time": "2022-09-07T12:33:19.208670",
     "status": "completed"
    },
    "tags": []
   },
   "outputs": [],
   "source": [
    "train_df = pd.read_csv(os.path.join(dirname, filenames[0]))\n",
    "test_df = pd.read_csv(os.path.join(dirname, filenames[1]))"
   ]
  },
  {
   "cell_type": "code",
   "execution_count": 3,
   "id": "c8071fa7",
   "metadata": {
    "execution": {
     "iopub.execute_input": "2022-09-07T12:33:19.277044Z",
     "iopub.status.busy": "2022-09-07T12:33:19.276358Z",
     "iopub.status.idle": "2022-09-07T12:33:19.300080Z",
     "shell.execute_reply": "2022-09-07T12:33:19.298850Z"
    },
    "papermill": {
     "duration": 0.039348,
     "end_time": "2022-09-07T12:33:19.302597",
     "exception": false,
     "start_time": "2022-09-07T12:33:19.263249",
     "status": "completed"
    },
    "tags": []
   },
   "outputs": [
    {
     "data": {
      "text/html": [
       "<div>\n",
       "<style scoped>\n",
       "    .dataframe tbody tr th:only-of-type {\n",
       "        vertical-align: middle;\n",
       "    }\n",
       "\n",
       "    .dataframe tbody tr th {\n",
       "        vertical-align: top;\n",
       "    }\n",
       "\n",
       "    .dataframe thead th {\n",
       "        text-align: right;\n",
       "    }\n",
       "</style>\n",
       "<table border=\"1\" class=\"dataframe\">\n",
       "  <thead>\n",
       "    <tr style=\"text-align: right;\">\n",
       "      <th></th>\n",
       "      <th>PassengerId</th>\n",
       "      <th>Survived</th>\n",
       "      <th>Pclass</th>\n",
       "      <th>Name</th>\n",
       "      <th>Sex</th>\n",
       "      <th>Age</th>\n",
       "      <th>SibSp</th>\n",
       "      <th>Parch</th>\n",
       "      <th>Ticket</th>\n",
       "      <th>Fare</th>\n",
       "      <th>Cabin</th>\n",
       "      <th>Embarked</th>\n",
       "    </tr>\n",
       "  </thead>\n",
       "  <tbody>\n",
       "    <tr>\n",
       "      <th>0</th>\n",
       "      <td>1</td>\n",
       "      <td>0</td>\n",
       "      <td>3</td>\n",
       "      <td>Braund, Mr. Owen Harris</td>\n",
       "      <td>male</td>\n",
       "      <td>22.0</td>\n",
       "      <td>1</td>\n",
       "      <td>0</td>\n",
       "      <td>A/5 21171</td>\n",
       "      <td>7.2500</td>\n",
       "      <td>NaN</td>\n",
       "      <td>S</td>\n",
       "    </tr>\n",
       "    <tr>\n",
       "      <th>1</th>\n",
       "      <td>2</td>\n",
       "      <td>1</td>\n",
       "      <td>1</td>\n",
       "      <td>Cumings, Mrs. John Bradley (Florence Briggs Th...</td>\n",
       "      <td>female</td>\n",
       "      <td>38.0</td>\n",
       "      <td>1</td>\n",
       "      <td>0</td>\n",
       "      <td>PC 17599</td>\n",
       "      <td>71.2833</td>\n",
       "      <td>C85</td>\n",
       "      <td>C</td>\n",
       "    </tr>\n",
       "    <tr>\n",
       "      <th>2</th>\n",
       "      <td>3</td>\n",
       "      <td>1</td>\n",
       "      <td>3</td>\n",
       "      <td>Heikkinen, Miss. Laina</td>\n",
       "      <td>female</td>\n",
       "      <td>26.0</td>\n",
       "      <td>0</td>\n",
       "      <td>0</td>\n",
       "      <td>STON/O2. 3101282</td>\n",
       "      <td>7.9250</td>\n",
       "      <td>NaN</td>\n",
       "      <td>S</td>\n",
       "    </tr>\n",
       "    <tr>\n",
       "      <th>3</th>\n",
       "      <td>4</td>\n",
       "      <td>1</td>\n",
       "      <td>1</td>\n",
       "      <td>Futrelle, Mrs. Jacques Heath (Lily May Peel)</td>\n",
       "      <td>female</td>\n",
       "      <td>35.0</td>\n",
       "      <td>1</td>\n",
       "      <td>0</td>\n",
       "      <td>113803</td>\n",
       "      <td>53.1000</td>\n",
       "      <td>C123</td>\n",
       "      <td>S</td>\n",
       "    </tr>\n",
       "    <tr>\n",
       "      <th>4</th>\n",
       "      <td>5</td>\n",
       "      <td>0</td>\n",
       "      <td>3</td>\n",
       "      <td>Allen, Mr. William Henry</td>\n",
       "      <td>male</td>\n",
       "      <td>35.0</td>\n",
       "      <td>0</td>\n",
       "      <td>0</td>\n",
       "      <td>373450</td>\n",
       "      <td>8.0500</td>\n",
       "      <td>NaN</td>\n",
       "      <td>S</td>\n",
       "    </tr>\n",
       "  </tbody>\n",
       "</table>\n",
       "</div>"
      ],
      "text/plain": [
       "   PassengerId  Survived  Pclass  \\\n",
       "0            1         0       3   \n",
       "1            2         1       1   \n",
       "2            3         1       3   \n",
       "3            4         1       1   \n",
       "4            5         0       3   \n",
       "\n",
       "                                                Name     Sex   Age  SibSp  \\\n",
       "0                            Braund, Mr. Owen Harris    male  22.0      1   \n",
       "1  Cumings, Mrs. John Bradley (Florence Briggs Th...  female  38.0      1   \n",
       "2                             Heikkinen, Miss. Laina  female  26.0      0   \n",
       "3       Futrelle, Mrs. Jacques Heath (Lily May Peel)  female  35.0      1   \n",
       "4                           Allen, Mr. William Henry    male  35.0      0   \n",
       "\n",
       "   Parch            Ticket     Fare Cabin Embarked  \n",
       "0      0         A/5 21171   7.2500   NaN        S  \n",
       "1      0          PC 17599  71.2833   C85        C  \n",
       "2      0  STON/O2. 3101282   7.9250   NaN        S  \n",
       "3      0            113803  53.1000  C123        S  \n",
       "4      0            373450   8.0500   NaN        S  "
      ]
     },
     "execution_count": 3,
     "metadata": {},
     "output_type": "execute_result"
    }
   ],
   "source": [
    "train_df.head()"
   ]
  },
  {
   "cell_type": "code",
   "execution_count": 4,
   "id": "16eb808b",
   "metadata": {
    "execution": {
     "iopub.execute_input": "2022-09-07T12:33:19.330240Z",
     "iopub.status.busy": "2022-09-07T12:33:19.329569Z",
     "iopub.status.idle": "2022-09-07T12:33:19.371110Z",
     "shell.execute_reply": "2022-09-07T12:33:19.369806Z"
    },
    "papermill": {
     "duration": 0.05728,
     "end_time": "2022-09-07T12:33:19.373485",
     "exception": false,
     "start_time": "2022-09-07T12:33:19.316205",
     "status": "completed"
    },
    "tags": []
   },
   "outputs": [
    {
     "data": {
      "text/html": [
       "<div>\n",
       "<style scoped>\n",
       "    .dataframe tbody tr th:only-of-type {\n",
       "        vertical-align: middle;\n",
       "    }\n",
       "\n",
       "    .dataframe tbody tr th {\n",
       "        vertical-align: top;\n",
       "    }\n",
       "\n",
       "    .dataframe thead th {\n",
       "        text-align: right;\n",
       "    }\n",
       "</style>\n",
       "<table border=\"1\" class=\"dataframe\">\n",
       "  <thead>\n",
       "    <tr style=\"text-align: right;\">\n",
       "      <th></th>\n",
       "      <th>PassengerId</th>\n",
       "      <th>Survived</th>\n",
       "      <th>Pclass</th>\n",
       "      <th>Age</th>\n",
       "      <th>SibSp</th>\n",
       "      <th>Parch</th>\n",
       "      <th>Fare</th>\n",
       "    </tr>\n",
       "  </thead>\n",
       "  <tbody>\n",
       "    <tr>\n",
       "      <th>count</th>\n",
       "      <td>891.000000</td>\n",
       "      <td>891.000000</td>\n",
       "      <td>891.000000</td>\n",
       "      <td>714.000000</td>\n",
       "      <td>891.000000</td>\n",
       "      <td>891.000000</td>\n",
       "      <td>891.000000</td>\n",
       "    </tr>\n",
       "    <tr>\n",
       "      <th>mean</th>\n",
       "      <td>446.000000</td>\n",
       "      <td>0.383838</td>\n",
       "      <td>2.308642</td>\n",
       "      <td>29.699118</td>\n",
       "      <td>0.523008</td>\n",
       "      <td>0.381594</td>\n",
       "      <td>32.204208</td>\n",
       "    </tr>\n",
       "    <tr>\n",
       "      <th>std</th>\n",
       "      <td>257.353842</td>\n",
       "      <td>0.486592</td>\n",
       "      <td>0.836071</td>\n",
       "      <td>14.526497</td>\n",
       "      <td>1.102743</td>\n",
       "      <td>0.806057</td>\n",
       "      <td>49.693429</td>\n",
       "    </tr>\n",
       "    <tr>\n",
       "      <th>min</th>\n",
       "      <td>1.000000</td>\n",
       "      <td>0.000000</td>\n",
       "      <td>1.000000</td>\n",
       "      <td>0.420000</td>\n",
       "      <td>0.000000</td>\n",
       "      <td>0.000000</td>\n",
       "      <td>0.000000</td>\n",
       "    </tr>\n",
       "    <tr>\n",
       "      <th>25%</th>\n",
       "      <td>223.500000</td>\n",
       "      <td>0.000000</td>\n",
       "      <td>2.000000</td>\n",
       "      <td>20.125000</td>\n",
       "      <td>0.000000</td>\n",
       "      <td>0.000000</td>\n",
       "      <td>7.910400</td>\n",
       "    </tr>\n",
       "    <tr>\n",
       "      <th>50%</th>\n",
       "      <td>446.000000</td>\n",
       "      <td>0.000000</td>\n",
       "      <td>3.000000</td>\n",
       "      <td>28.000000</td>\n",
       "      <td>0.000000</td>\n",
       "      <td>0.000000</td>\n",
       "      <td>14.454200</td>\n",
       "    </tr>\n",
       "    <tr>\n",
       "      <th>75%</th>\n",
       "      <td>668.500000</td>\n",
       "      <td>1.000000</td>\n",
       "      <td>3.000000</td>\n",
       "      <td>38.000000</td>\n",
       "      <td>1.000000</td>\n",
       "      <td>0.000000</td>\n",
       "      <td>31.000000</td>\n",
       "    </tr>\n",
       "    <tr>\n",
       "      <th>max</th>\n",
       "      <td>891.000000</td>\n",
       "      <td>1.000000</td>\n",
       "      <td>3.000000</td>\n",
       "      <td>80.000000</td>\n",
       "      <td>8.000000</td>\n",
       "      <td>6.000000</td>\n",
       "      <td>512.329200</td>\n",
       "    </tr>\n",
       "  </tbody>\n",
       "</table>\n",
       "</div>"
      ],
      "text/plain": [
       "       PassengerId    Survived      Pclass         Age       SibSp  \\\n",
       "count   891.000000  891.000000  891.000000  714.000000  891.000000   \n",
       "mean    446.000000    0.383838    2.308642   29.699118    0.523008   \n",
       "std     257.353842    0.486592    0.836071   14.526497    1.102743   \n",
       "min       1.000000    0.000000    1.000000    0.420000    0.000000   \n",
       "25%     223.500000    0.000000    2.000000   20.125000    0.000000   \n",
       "50%     446.000000    0.000000    3.000000   28.000000    0.000000   \n",
       "75%     668.500000    1.000000    3.000000   38.000000    1.000000   \n",
       "max     891.000000    1.000000    3.000000   80.000000    8.000000   \n",
       "\n",
       "            Parch        Fare  \n",
       "count  891.000000  891.000000  \n",
       "mean     0.381594   32.204208  \n",
       "std      0.806057   49.693429  \n",
       "min      0.000000    0.000000  \n",
       "25%      0.000000    7.910400  \n",
       "50%      0.000000   14.454200  \n",
       "75%      0.000000   31.000000  \n",
       "max      6.000000  512.329200  "
      ]
     },
     "execution_count": 4,
     "metadata": {},
     "output_type": "execute_result"
    }
   ],
   "source": [
    "train_df.describe()"
   ]
  },
  {
   "cell_type": "code",
   "execution_count": 5,
   "id": "fffc7e8f",
   "metadata": {
    "execution": {
     "iopub.execute_input": "2022-09-07T12:33:19.400837Z",
     "iopub.status.busy": "2022-09-07T12:33:19.400384Z",
     "iopub.status.idle": "2022-09-07T12:33:19.410422Z",
     "shell.execute_reply": "2022-09-07T12:33:19.409301Z"
    },
    "papermill": {
     "duration": 0.026752,
     "end_time": "2022-09-07T12:33:19.412706",
     "exception": false,
     "start_time": "2022-09-07T12:33:19.385954",
     "status": "completed"
    },
    "tags": []
   },
   "outputs": [
    {
     "data": {
      "text/plain": [
       "PassengerId      0\n",
       "Survived         0\n",
       "Pclass           0\n",
       "Name             0\n",
       "Sex              0\n",
       "Age            177\n",
       "SibSp            0\n",
       "Parch            0\n",
       "Ticket           0\n",
       "Fare             0\n",
       "Cabin          687\n",
       "Embarked         2\n",
       "dtype: int64"
      ]
     },
     "execution_count": 5,
     "metadata": {},
     "output_type": "execute_result"
    }
   ],
   "source": [
    "train_df.isna().sum()"
   ]
  },
  {
   "cell_type": "code",
   "execution_count": 6,
   "id": "eeb5fb63",
   "metadata": {
    "execution": {
     "iopub.execute_input": "2022-09-07T12:33:19.439449Z",
     "iopub.status.busy": "2022-09-07T12:33:19.438435Z",
     "iopub.status.idle": "2022-09-07T12:33:19.453946Z",
     "shell.execute_reply": "2022-09-07T12:33:19.453165Z"
    },
    "papermill": {
     "duration": 0.030893,
     "end_time": "2022-09-07T12:33:19.455988",
     "exception": false,
     "start_time": "2022-09-07T12:33:19.425095",
     "status": "completed"
    },
    "tags": []
   },
   "outputs": [
    {
     "data": {
      "text/html": [
       "<div>\n",
       "<style scoped>\n",
       "    .dataframe tbody tr th:only-of-type {\n",
       "        vertical-align: middle;\n",
       "    }\n",
       "\n",
       "    .dataframe tbody tr th {\n",
       "        vertical-align: top;\n",
       "    }\n",
       "\n",
       "    .dataframe thead th {\n",
       "        text-align: right;\n",
       "    }\n",
       "</style>\n",
       "<table border=\"1\" class=\"dataframe\">\n",
       "  <thead>\n",
       "    <tr style=\"text-align: right;\">\n",
       "      <th></th>\n",
       "      <th>PassengerId</th>\n",
       "      <th>Survived</th>\n",
       "      <th>Pclass</th>\n",
       "      <th>Name</th>\n",
       "      <th>Sex</th>\n",
       "      <th>Age</th>\n",
       "      <th>SibSp</th>\n",
       "      <th>Parch</th>\n",
       "      <th>Ticket</th>\n",
       "      <th>Fare</th>\n",
       "      <th>Cabin</th>\n",
       "      <th>Embarked</th>\n",
       "    </tr>\n",
       "  </thead>\n",
       "  <tbody>\n",
       "    <tr>\n",
       "      <th>61</th>\n",
       "      <td>62</td>\n",
       "      <td>1</td>\n",
       "      <td>1</td>\n",
       "      <td>Icard, Miss. Amelie</td>\n",
       "      <td>female</td>\n",
       "      <td>38.0</td>\n",
       "      <td>0</td>\n",
       "      <td>0</td>\n",
       "      <td>113572</td>\n",
       "      <td>80.0</td>\n",
       "      <td>B28</td>\n",
       "      <td>NaN</td>\n",
       "    </tr>\n",
       "    <tr>\n",
       "      <th>829</th>\n",
       "      <td>830</td>\n",
       "      <td>1</td>\n",
       "      <td>1</td>\n",
       "      <td>Stone, Mrs. George Nelson (Martha Evelyn)</td>\n",
       "      <td>female</td>\n",
       "      <td>62.0</td>\n",
       "      <td>0</td>\n",
       "      <td>0</td>\n",
       "      <td>113572</td>\n",
       "      <td>80.0</td>\n",
       "      <td>B28</td>\n",
       "      <td>NaN</td>\n",
       "    </tr>\n",
       "  </tbody>\n",
       "</table>\n",
       "</div>"
      ],
      "text/plain": [
       "     PassengerId  Survived  Pclass                                       Name  \\\n",
       "61            62         1       1                        Icard, Miss. Amelie   \n",
       "829          830         1       1  Stone, Mrs. George Nelson (Martha Evelyn)   \n",
       "\n",
       "        Sex   Age  SibSp  Parch  Ticket  Fare Cabin Embarked  \n",
       "61   female  38.0      0      0  113572  80.0   B28      NaN  \n",
       "829  female  62.0      0      0  113572  80.0   B28      NaN  "
      ]
     },
     "execution_count": 6,
     "metadata": {},
     "output_type": "execute_result"
    }
   ],
   "source": [
    "train_df[pd.isna(train_df['Embarked'])]"
   ]
  },
  {
   "cell_type": "code",
   "execution_count": 7,
   "id": "6ff7ab7a",
   "metadata": {
    "execution": {
     "iopub.execute_input": "2022-09-07T12:33:19.482637Z",
     "iopub.status.busy": "2022-09-07T12:33:19.481946Z",
     "iopub.status.idle": "2022-09-07T12:33:19.503668Z",
     "shell.execute_reply": "2022-09-07T12:33:19.502675Z"
    },
    "papermill": {
     "duration": 0.037689,
     "end_time": "2022-09-07T12:33:19.506157",
     "exception": false,
     "start_time": "2022-09-07T12:33:19.468468",
     "status": "completed"
    },
    "tags": []
   },
   "outputs": [
    {
     "data": {
      "text/html": [
       "<div>\n",
       "<style scoped>\n",
       "    .dataframe tbody tr th:only-of-type {\n",
       "        vertical-align: middle;\n",
       "    }\n",
       "\n",
       "    .dataframe tbody tr th {\n",
       "        vertical-align: top;\n",
       "    }\n",
       "\n",
       "    .dataframe thead th {\n",
       "        text-align: right;\n",
       "    }\n",
       "</style>\n",
       "<table border=\"1\" class=\"dataframe\">\n",
       "  <thead>\n",
       "    <tr style=\"text-align: right;\">\n",
       "      <th></th>\n",
       "      <th>PassengerId</th>\n",
       "      <th>Survived</th>\n",
       "      <th>Pclass</th>\n",
       "      <th>Name</th>\n",
       "      <th>Sex</th>\n",
       "      <th>Age</th>\n",
       "      <th>SibSp</th>\n",
       "      <th>Parch</th>\n",
       "      <th>Ticket</th>\n",
       "      <th>Fare</th>\n",
       "      <th>Cabin</th>\n",
       "      <th>Embarked</th>\n",
       "    </tr>\n",
       "  </thead>\n",
       "  <tbody>\n",
       "    <tr>\n",
       "      <th>5</th>\n",
       "      <td>6</td>\n",
       "      <td>0</td>\n",
       "      <td>3</td>\n",
       "      <td>Moran, Mr. James</td>\n",
       "      <td>male</td>\n",
       "      <td>NaN</td>\n",
       "      <td>0</td>\n",
       "      <td>0</td>\n",
       "      <td>330877</td>\n",
       "      <td>8.4583</td>\n",
       "      <td>NaN</td>\n",
       "      <td>Q</td>\n",
       "    </tr>\n",
       "    <tr>\n",
       "      <th>17</th>\n",
       "      <td>18</td>\n",
       "      <td>1</td>\n",
       "      <td>2</td>\n",
       "      <td>Williams, Mr. Charles Eugene</td>\n",
       "      <td>male</td>\n",
       "      <td>NaN</td>\n",
       "      <td>0</td>\n",
       "      <td>0</td>\n",
       "      <td>244373</td>\n",
       "      <td>13.0000</td>\n",
       "      <td>NaN</td>\n",
       "      <td>S</td>\n",
       "    </tr>\n",
       "    <tr>\n",
       "      <th>19</th>\n",
       "      <td>20</td>\n",
       "      <td>1</td>\n",
       "      <td>3</td>\n",
       "      <td>Masselmani, Mrs. Fatima</td>\n",
       "      <td>female</td>\n",
       "      <td>NaN</td>\n",
       "      <td>0</td>\n",
       "      <td>0</td>\n",
       "      <td>2649</td>\n",
       "      <td>7.2250</td>\n",
       "      <td>NaN</td>\n",
       "      <td>C</td>\n",
       "    </tr>\n",
       "    <tr>\n",
       "      <th>26</th>\n",
       "      <td>27</td>\n",
       "      <td>0</td>\n",
       "      <td>3</td>\n",
       "      <td>Emir, Mr. Farred Chehab</td>\n",
       "      <td>male</td>\n",
       "      <td>NaN</td>\n",
       "      <td>0</td>\n",
       "      <td>0</td>\n",
       "      <td>2631</td>\n",
       "      <td>7.2250</td>\n",
       "      <td>NaN</td>\n",
       "      <td>C</td>\n",
       "    </tr>\n",
       "    <tr>\n",
       "      <th>28</th>\n",
       "      <td>29</td>\n",
       "      <td>1</td>\n",
       "      <td>3</td>\n",
       "      <td>O'Dwyer, Miss. Ellen \"Nellie\"</td>\n",
       "      <td>female</td>\n",
       "      <td>NaN</td>\n",
       "      <td>0</td>\n",
       "      <td>0</td>\n",
       "      <td>330959</td>\n",
       "      <td>7.8792</td>\n",
       "      <td>NaN</td>\n",
       "      <td>Q</td>\n",
       "    </tr>\n",
       "    <tr>\n",
       "      <th>...</th>\n",
       "      <td>...</td>\n",
       "      <td>...</td>\n",
       "      <td>...</td>\n",
       "      <td>...</td>\n",
       "      <td>...</td>\n",
       "      <td>...</td>\n",
       "      <td>...</td>\n",
       "      <td>...</td>\n",
       "      <td>...</td>\n",
       "      <td>...</td>\n",
       "      <td>...</td>\n",
       "      <td>...</td>\n",
       "    </tr>\n",
       "    <tr>\n",
       "      <th>859</th>\n",
       "      <td>860</td>\n",
       "      <td>0</td>\n",
       "      <td>3</td>\n",
       "      <td>Razi, Mr. Raihed</td>\n",
       "      <td>male</td>\n",
       "      <td>NaN</td>\n",
       "      <td>0</td>\n",
       "      <td>0</td>\n",
       "      <td>2629</td>\n",
       "      <td>7.2292</td>\n",
       "      <td>NaN</td>\n",
       "      <td>C</td>\n",
       "    </tr>\n",
       "    <tr>\n",
       "      <th>863</th>\n",
       "      <td>864</td>\n",
       "      <td>0</td>\n",
       "      <td>3</td>\n",
       "      <td>Sage, Miss. Dorothy Edith \"Dolly\"</td>\n",
       "      <td>female</td>\n",
       "      <td>NaN</td>\n",
       "      <td>8</td>\n",
       "      <td>2</td>\n",
       "      <td>CA. 2343</td>\n",
       "      <td>69.5500</td>\n",
       "      <td>NaN</td>\n",
       "      <td>S</td>\n",
       "    </tr>\n",
       "    <tr>\n",
       "      <th>868</th>\n",
       "      <td>869</td>\n",
       "      <td>0</td>\n",
       "      <td>3</td>\n",
       "      <td>van Melkebeke, Mr. Philemon</td>\n",
       "      <td>male</td>\n",
       "      <td>NaN</td>\n",
       "      <td>0</td>\n",
       "      <td>0</td>\n",
       "      <td>345777</td>\n",
       "      <td>9.5000</td>\n",
       "      <td>NaN</td>\n",
       "      <td>S</td>\n",
       "    </tr>\n",
       "    <tr>\n",
       "      <th>878</th>\n",
       "      <td>879</td>\n",
       "      <td>0</td>\n",
       "      <td>3</td>\n",
       "      <td>Laleff, Mr. Kristo</td>\n",
       "      <td>male</td>\n",
       "      <td>NaN</td>\n",
       "      <td>0</td>\n",
       "      <td>0</td>\n",
       "      <td>349217</td>\n",
       "      <td>7.8958</td>\n",
       "      <td>NaN</td>\n",
       "      <td>S</td>\n",
       "    </tr>\n",
       "    <tr>\n",
       "      <th>888</th>\n",
       "      <td>889</td>\n",
       "      <td>0</td>\n",
       "      <td>3</td>\n",
       "      <td>Johnston, Miss. Catherine Helen \"Carrie\"</td>\n",
       "      <td>female</td>\n",
       "      <td>NaN</td>\n",
       "      <td>1</td>\n",
       "      <td>2</td>\n",
       "      <td>W./C. 6607</td>\n",
       "      <td>23.4500</td>\n",
       "      <td>NaN</td>\n",
       "      <td>S</td>\n",
       "    </tr>\n",
       "  </tbody>\n",
       "</table>\n",
       "<p>177 rows × 12 columns</p>\n",
       "</div>"
      ],
      "text/plain": [
       "     PassengerId  Survived  Pclass                                      Name  \\\n",
       "5              6         0       3                          Moran, Mr. James   \n",
       "17            18         1       2              Williams, Mr. Charles Eugene   \n",
       "19            20         1       3                   Masselmani, Mrs. Fatima   \n",
       "26            27         0       3                   Emir, Mr. Farred Chehab   \n",
       "28            29         1       3             O'Dwyer, Miss. Ellen \"Nellie\"   \n",
       "..           ...       ...     ...                                       ...   \n",
       "859          860         0       3                          Razi, Mr. Raihed   \n",
       "863          864         0       3         Sage, Miss. Dorothy Edith \"Dolly\"   \n",
       "868          869         0       3               van Melkebeke, Mr. Philemon   \n",
       "878          879         0       3                        Laleff, Mr. Kristo   \n",
       "888          889         0       3  Johnston, Miss. Catherine Helen \"Carrie\"   \n",
       "\n",
       "        Sex  Age  SibSp  Parch      Ticket     Fare Cabin Embarked  \n",
       "5      male  NaN      0      0      330877   8.4583   NaN        Q  \n",
       "17     male  NaN      0      0      244373  13.0000   NaN        S  \n",
       "19   female  NaN      0      0        2649   7.2250   NaN        C  \n",
       "26     male  NaN      0      0        2631   7.2250   NaN        C  \n",
       "28   female  NaN      0      0      330959   7.8792   NaN        Q  \n",
       "..      ...  ...    ...    ...         ...      ...   ...      ...  \n",
       "859    male  NaN      0      0        2629   7.2292   NaN        C  \n",
       "863  female  NaN      8      2    CA. 2343  69.5500   NaN        S  \n",
       "868    male  NaN      0      0      345777   9.5000   NaN        S  \n",
       "878    male  NaN      0      0      349217   7.8958   NaN        S  \n",
       "888  female  NaN      1      2  W./C. 6607  23.4500   NaN        S  \n",
       "\n",
       "[177 rows x 12 columns]"
      ]
     },
     "execution_count": 7,
     "metadata": {},
     "output_type": "execute_result"
    }
   ],
   "source": [
    "train_df[pd.isna(train_df['Age'])]"
   ]
  },
  {
   "cell_type": "markdown",
   "id": "891218a5",
   "metadata": {
    "papermill": {
     "duration": 0.012517,
     "end_time": "2022-09-07T12:33:19.531734",
     "exception": false,
     "start_time": "2022-09-07T12:33:19.519217",
     "status": "completed"
    },
    "tags": []
   },
   "source": [
    "Categorical: sex, cabin, embarked\n",
    "\n",
    "Age, Fare: normalize/standardize\n",
    "\n",
    "Drop: passenger id, name, ticket, Cabin\n",
    "\n",
    "Cabin: replace Nan with default eg 0\n",
    "\n",
    "Embarked: replace nan?\n",
    "\n",
    "Age: replace nan?\n"
   ]
  },
  {
   "cell_type": "code",
   "execution_count": 8,
   "id": "ecb613e4",
   "metadata": {
    "execution": {
     "iopub.execute_input": "2022-09-07T12:33:19.559059Z",
     "iopub.status.busy": "2022-09-07T12:33:19.558668Z",
     "iopub.status.idle": "2022-09-07T12:33:19.570097Z",
     "shell.execute_reply": "2022-09-07T12:33:19.569341Z"
    },
    "papermill": {
     "duration": 0.027182,
     "end_time": "2022-09-07T12:33:19.572022",
     "exception": false,
     "start_time": "2022-09-07T12:33:19.544840",
     "status": "completed"
    },
    "tags": []
   },
   "outputs": [
    {
     "data": {
      "text/plain": [
       "PassengerId    891\n",
       "Survived         2\n",
       "Pclass           3\n",
       "Name           891\n",
       "Sex              2\n",
       "Age             88\n",
       "SibSp            7\n",
       "Parch            7\n",
       "Ticket         681\n",
       "Fare           248\n",
       "Cabin          147\n",
       "Embarked         3\n",
       "dtype: int64"
      ]
     },
     "execution_count": 8,
     "metadata": {},
     "output_type": "execute_result"
    }
   ],
   "source": [
    "train_df.nunique()"
   ]
  },
  {
   "cell_type": "code",
   "execution_count": 9,
   "id": "71c7ab22",
   "metadata": {
    "execution": {
     "iopub.execute_input": "2022-09-07T12:33:19.600335Z",
     "iopub.status.busy": "2022-09-07T12:33:19.599667Z",
     "iopub.status.idle": "2022-09-07T12:33:19.607205Z",
     "shell.execute_reply": "2022-09-07T12:33:19.606085Z"
    },
    "papermill": {
     "duration": 0.024044,
     "end_time": "2022-09-07T12:33:19.609418",
     "exception": false,
     "start_time": "2022-09-07T12:33:19.585374",
     "status": "completed"
    },
    "tags": []
   },
   "outputs": [
    {
     "data": {
      "text/plain": [
       "array([nan, 'C85', 'C123', 'E46', 'G6', 'C103', 'D56', 'A6',\n",
       "       'C23 C25 C27', 'B78', 'D33', 'B30', 'C52', 'B28', 'C83', 'F33',\n",
       "       'F G73', 'E31', 'A5', 'D10 D12', 'D26', 'C110', 'B58 B60', 'E101',\n",
       "       'F E69', 'D47', 'B86', 'F2', 'C2', 'E33', 'B19', 'A7', 'C49', 'F4',\n",
       "       'A32', 'B4', 'B80', 'A31', 'D36', 'D15', 'C93', 'C78', 'D35',\n",
       "       'C87', 'B77', 'E67', 'B94', 'C125', 'C99', 'C118', 'D7', 'A19',\n",
       "       'B49', 'D', 'C22 C26', 'C106', 'C65', 'E36', 'C54',\n",
       "       'B57 B59 B63 B66', 'C7', 'E34', 'C32', 'B18', 'C124', 'C91', 'E40',\n",
       "       'T', 'C128', 'D37', 'B35', 'E50', 'C82', 'B96 B98', 'E10', 'E44',\n",
       "       'A34', 'C104', 'C111', 'C92', 'E38', 'D21', 'E12', 'E63', 'A14',\n",
       "       'B37', 'C30', 'D20', 'B79', 'E25', 'D46', 'B73', 'C95', 'B38',\n",
       "       'B39', 'B22', 'C86', 'C70', 'A16', 'C101', 'C68', 'A10', 'E68',\n",
       "       'B41', 'A20', 'D19', 'D50', 'D9', 'A23', 'B50', 'A26', 'D48',\n",
       "       'E58', 'C126', 'B71', 'B51 B53 B55', 'D49', 'B5', 'B20', 'F G63',\n",
       "       'C62 C64', 'E24', 'C90', 'C45', 'E8', 'B101', 'D45', 'C46', 'D30',\n",
       "       'E121', 'D11', 'E77', 'F38', 'B3', 'D6', 'B82 B84', 'D17', 'A36',\n",
       "       'B102', 'B69', 'E49', 'C47', 'D28', 'E17', 'A24', 'C50', 'B42',\n",
       "       'C148'], dtype=object)"
      ]
     },
     "execution_count": 9,
     "metadata": {},
     "output_type": "execute_result"
    }
   ],
   "source": [
    "train_df['Cabin'].unique()"
   ]
  },
  {
   "cell_type": "code",
   "execution_count": 10,
   "id": "ad0ad3c2",
   "metadata": {
    "execution": {
     "iopub.execute_input": "2022-09-07T12:33:19.637049Z",
     "iopub.status.busy": "2022-09-07T12:33:19.636619Z",
     "iopub.status.idle": "2022-09-07T12:33:19.645490Z",
     "shell.execute_reply": "2022-09-07T12:33:19.644475Z"
    },
    "papermill": {
     "duration": 0.025287,
     "end_time": "2022-09-07T12:33:19.647726",
     "exception": false,
     "start_time": "2022-09-07T12:33:19.622439",
     "status": "completed"
    },
    "tags": []
   },
   "outputs": [
    {
     "data": {
      "text/plain": [
       "array([nan, 'C', 'E', 'G', 'D', 'A', 'B', 'F', 'T'], dtype=object)"
      ]
     },
     "execution_count": 10,
     "metadata": {},
     "output_type": "execute_result"
    }
   ],
   "source": [
    "train_df['Cabin Code'] = train_df['Cabin'].str[0]\n",
    "train_df['Cabin Code'].unique()"
   ]
  },
  {
   "cell_type": "code",
   "execution_count": 11,
   "id": "68f6bb7a",
   "metadata": {
    "execution": {
     "iopub.execute_input": "2022-09-07T12:33:19.676533Z",
     "iopub.status.busy": "2022-09-07T12:33:19.676133Z",
     "iopub.status.idle": "2022-09-07T12:33:19.684415Z",
     "shell.execute_reply": "2022-09-07T12:33:19.683352Z"
    },
    "papermill": {
     "duration": 0.025048,
     "end_time": "2022-09-07T12:33:19.686580",
     "exception": false,
     "start_time": "2022-09-07T12:33:19.661532",
     "status": "completed"
    },
    "tags": []
   },
   "outputs": [
    {
     "data": {
      "text/plain": [
       "array(['Z', 'C', 'E', 'G', 'D', 'A', 'B', 'F', 'T'], dtype=object)"
      ]
     },
     "execution_count": 11,
     "metadata": {},
     "output_type": "execute_result"
    }
   ],
   "source": [
    "train_df['Cabin Code'].fillna('Z', inplace=True)\n",
    "train_df['Cabin Code'].unique()"
   ]
  },
  {
   "cell_type": "code",
   "execution_count": 12,
   "id": "d0361c00",
   "metadata": {
    "execution": {
     "iopub.execute_input": "2022-09-07T12:33:19.715509Z",
     "iopub.status.busy": "2022-09-07T12:33:19.715121Z",
     "iopub.status.idle": "2022-09-07T12:33:19.723450Z",
     "shell.execute_reply": "2022-09-07T12:33:19.722203Z"
    },
    "papermill": {
     "duration": 0.02555,
     "end_time": "2022-09-07T12:33:19.725456",
     "exception": false,
     "start_time": "2022-09-07T12:33:19.699906",
     "status": "completed"
    },
    "tags": []
   },
   "outputs": [],
   "source": [
    "train_df.replace(to_replace=\"male\", value=1, inplace=True)\n",
    "train_df.replace(to_replace=\"female\", value=0, inplace=True)"
   ]
  },
  {
   "cell_type": "code",
   "execution_count": 13,
   "id": "d0f6033c",
   "metadata": {
    "execution": {
     "iopub.execute_input": "2022-09-07T12:33:19.753818Z",
     "iopub.status.busy": "2022-09-07T12:33:19.753426Z",
     "iopub.status.idle": "2022-09-07T12:33:19.770829Z",
     "shell.execute_reply": "2022-09-07T12:33:19.769783Z"
    },
    "papermill": {
     "duration": 0.034157,
     "end_time": "2022-09-07T12:33:19.773009",
     "exception": false,
     "start_time": "2022-09-07T12:33:19.738852",
     "status": "completed"
    },
    "tags": []
   },
   "outputs": [
    {
     "data": {
      "text/html": [
       "<div>\n",
       "<style scoped>\n",
       "    .dataframe tbody tr th:only-of-type {\n",
       "        vertical-align: middle;\n",
       "    }\n",
       "\n",
       "    .dataframe tbody tr th {\n",
       "        vertical-align: top;\n",
       "    }\n",
       "\n",
       "    .dataframe thead th {\n",
       "        text-align: right;\n",
       "    }\n",
       "</style>\n",
       "<table border=\"1\" class=\"dataframe\">\n",
       "  <thead>\n",
       "    <tr style=\"text-align: right;\">\n",
       "      <th></th>\n",
       "      <th>Survived</th>\n",
       "      <th>Pclass</th>\n",
       "      <th>Sex</th>\n",
       "      <th>Age</th>\n",
       "      <th>SibSp</th>\n",
       "      <th>Parch</th>\n",
       "      <th>Fare</th>\n",
       "      <th>Cabin</th>\n",
       "      <th>Embarked</th>\n",
       "      <th>Cabin Code</th>\n",
       "    </tr>\n",
       "    <tr>\n",
       "      <th>PassengerId</th>\n",
       "      <th></th>\n",
       "      <th></th>\n",
       "      <th></th>\n",
       "      <th></th>\n",
       "      <th></th>\n",
       "      <th></th>\n",
       "      <th></th>\n",
       "      <th></th>\n",
       "      <th></th>\n",
       "      <th></th>\n",
       "    </tr>\n",
       "  </thead>\n",
       "  <tbody>\n",
       "    <tr>\n",
       "      <th>1</th>\n",
       "      <td>0</td>\n",
       "      <td>3</td>\n",
       "      <td>1</td>\n",
       "      <td>22.0</td>\n",
       "      <td>1</td>\n",
       "      <td>0</td>\n",
       "      <td>7.2500</td>\n",
       "      <td>NaN</td>\n",
       "      <td>S</td>\n",
       "      <td>Z</td>\n",
       "    </tr>\n",
       "    <tr>\n",
       "      <th>2</th>\n",
       "      <td>1</td>\n",
       "      <td>1</td>\n",
       "      <td>0</td>\n",
       "      <td>38.0</td>\n",
       "      <td>1</td>\n",
       "      <td>0</td>\n",
       "      <td>71.2833</td>\n",
       "      <td>C85</td>\n",
       "      <td>C</td>\n",
       "      <td>C</td>\n",
       "    </tr>\n",
       "    <tr>\n",
       "      <th>3</th>\n",
       "      <td>1</td>\n",
       "      <td>3</td>\n",
       "      <td>0</td>\n",
       "      <td>26.0</td>\n",
       "      <td>0</td>\n",
       "      <td>0</td>\n",
       "      <td>7.9250</td>\n",
       "      <td>NaN</td>\n",
       "      <td>S</td>\n",
       "      <td>Z</td>\n",
       "    </tr>\n",
       "    <tr>\n",
       "      <th>4</th>\n",
       "      <td>1</td>\n",
       "      <td>1</td>\n",
       "      <td>0</td>\n",
       "      <td>35.0</td>\n",
       "      <td>1</td>\n",
       "      <td>0</td>\n",
       "      <td>53.1000</td>\n",
       "      <td>C123</td>\n",
       "      <td>S</td>\n",
       "      <td>C</td>\n",
       "    </tr>\n",
       "    <tr>\n",
       "      <th>5</th>\n",
       "      <td>0</td>\n",
       "      <td>3</td>\n",
       "      <td>1</td>\n",
       "      <td>35.0</td>\n",
       "      <td>0</td>\n",
       "      <td>0</td>\n",
       "      <td>8.0500</td>\n",
       "      <td>NaN</td>\n",
       "      <td>S</td>\n",
       "      <td>Z</td>\n",
       "    </tr>\n",
       "  </tbody>\n",
       "</table>\n",
       "</div>"
      ],
      "text/plain": [
       "             Survived  Pclass  Sex   Age  SibSp  Parch     Fare Cabin  \\\n",
       "PassengerId                                                             \n",
       "1                   0       3    1  22.0      1      0   7.2500   NaN   \n",
       "2                   1       1    0  38.0      1      0  71.2833   C85   \n",
       "3                   1       3    0  26.0      0      0   7.9250   NaN   \n",
       "4                   1       1    0  35.0      1      0  53.1000  C123   \n",
       "5                   0       3    1  35.0      0      0   8.0500   NaN   \n",
       "\n",
       "            Embarked Cabin Code  \n",
       "PassengerId                      \n",
       "1                  S          Z  \n",
       "2                  C          C  \n",
       "3                  S          Z  \n",
       "4                  S          C  \n",
       "5                  S          Z  "
      ]
     },
     "execution_count": 13,
     "metadata": {},
     "output_type": "execute_result"
    }
   ],
   "source": [
    "train_df.drop(columns = ['Name','Ticket'], inplace = True)\n",
    "train_df.set_index('PassengerId', inplace=True)\n",
    "train_df.head()"
   ]
  },
  {
   "cell_type": "code",
   "execution_count": 14,
   "id": "dc5e1dfb",
   "metadata": {
    "execution": {
     "iopub.execute_input": "2022-09-07T12:33:19.802078Z",
     "iopub.status.busy": "2022-09-07T12:33:19.801664Z",
     "iopub.status.idle": "2022-09-07T12:33:19.817331Z",
     "shell.execute_reply": "2022-09-07T12:33:19.816202Z"
    },
    "papermill": {
     "duration": 0.033041,
     "end_time": "2022-09-07T12:33:19.819649",
     "exception": false,
     "start_time": "2022-09-07T12:33:19.786608",
     "status": "completed"
    },
    "tags": []
   },
   "outputs": [
    {
     "data": {
      "text/html": [
       "<div>\n",
       "<style scoped>\n",
       "    .dataframe tbody tr th:only-of-type {\n",
       "        vertical-align: middle;\n",
       "    }\n",
       "\n",
       "    .dataframe tbody tr th {\n",
       "        vertical-align: top;\n",
       "    }\n",
       "\n",
       "    .dataframe thead th {\n",
       "        text-align: right;\n",
       "    }\n",
       "</style>\n",
       "<table border=\"1\" class=\"dataframe\">\n",
       "  <thead>\n",
       "    <tr style=\"text-align: right;\">\n",
       "      <th></th>\n",
       "      <th>Survived</th>\n",
       "      <th>Pclass</th>\n",
       "      <th>Sex</th>\n",
       "      <th>Age</th>\n",
       "      <th>SibSp</th>\n",
       "      <th>Parch</th>\n",
       "      <th>Fare</th>\n",
       "      <th>Cabin</th>\n",
       "      <th>Embarked</th>\n",
       "      <th>Cabin Code</th>\n",
       "    </tr>\n",
       "    <tr>\n",
       "      <th>PassengerId</th>\n",
       "      <th></th>\n",
       "      <th></th>\n",
       "      <th></th>\n",
       "      <th></th>\n",
       "      <th></th>\n",
       "      <th></th>\n",
       "      <th></th>\n",
       "      <th></th>\n",
       "      <th></th>\n",
       "      <th></th>\n",
       "    </tr>\n",
       "  </thead>\n",
       "  <tbody>\n",
       "    <tr>\n",
       "      <th>340</th>\n",
       "      <td>0</td>\n",
       "      <td>1</td>\n",
       "      <td>1</td>\n",
       "      <td>45.0</td>\n",
       "      <td>0</td>\n",
       "      <td>0</td>\n",
       "      <td>35.5</td>\n",
       "      <td>T</td>\n",
       "      <td>S</td>\n",
       "      <td>T</td>\n",
       "    </tr>\n",
       "  </tbody>\n",
       "</table>\n",
       "</div>"
      ],
      "text/plain": [
       "             Survived  Pclass  Sex   Age  SibSp  Parch  Fare Cabin Embarked  \\\n",
       "PassengerId                                                                   \n",
       "340                 0       1    1  45.0      0      0  35.5     T        S   \n",
       "\n",
       "            Cabin Code  \n",
       "PassengerId             \n",
       "340                  T  "
      ]
     },
     "execution_count": 14,
     "metadata": {},
     "output_type": "execute_result"
    }
   ],
   "source": [
    "train_df.loc[train_df['Cabin Code'] == 'T']"
   ]
  },
  {
   "cell_type": "code",
   "execution_count": 15,
   "id": "a3ee5205",
   "metadata": {
    "execution": {
     "iopub.execute_input": "2022-09-07T12:33:19.849570Z",
     "iopub.status.busy": "2022-09-07T12:33:19.848793Z",
     "iopub.status.idle": "2022-09-07T12:33:19.864416Z",
     "shell.execute_reply": "2022-09-07T12:33:19.863311Z"
    },
    "papermill": {
     "duration": 0.033145,
     "end_time": "2022-09-07T12:33:19.866599",
     "exception": false,
     "start_time": "2022-09-07T12:33:19.833454",
     "status": "completed"
    },
    "tags": []
   },
   "outputs": [
    {
     "data": {
      "text/html": [
       "<div>\n",
       "<style scoped>\n",
       "    .dataframe tbody tr th:only-of-type {\n",
       "        vertical-align: middle;\n",
       "    }\n",
       "\n",
       "    .dataframe tbody tr th {\n",
       "        vertical-align: top;\n",
       "    }\n",
       "\n",
       "    .dataframe thead th {\n",
       "        text-align: right;\n",
       "    }\n",
       "</style>\n",
       "<table border=\"1\" class=\"dataframe\">\n",
       "  <thead>\n",
       "    <tr style=\"text-align: right;\">\n",
       "      <th></th>\n",
       "      <th>Survived</th>\n",
       "      <th>Pclass</th>\n",
       "      <th>Sex</th>\n",
       "      <th>Age</th>\n",
       "      <th>SibSp</th>\n",
       "      <th>Parch</th>\n",
       "      <th>Fare</th>\n",
       "      <th>Embarked</th>\n",
       "    </tr>\n",
       "    <tr>\n",
       "      <th>PassengerId</th>\n",
       "      <th></th>\n",
       "      <th></th>\n",
       "      <th></th>\n",
       "      <th></th>\n",
       "      <th></th>\n",
       "      <th></th>\n",
       "      <th></th>\n",
       "      <th></th>\n",
       "    </tr>\n",
       "  </thead>\n",
       "  <tbody>\n",
       "    <tr>\n",
       "      <th>1</th>\n",
       "      <td>0</td>\n",
       "      <td>3</td>\n",
       "      <td>1</td>\n",
       "      <td>22.0</td>\n",
       "      <td>1</td>\n",
       "      <td>0</td>\n",
       "      <td>7.2500</td>\n",
       "      <td>S</td>\n",
       "    </tr>\n",
       "    <tr>\n",
       "      <th>2</th>\n",
       "      <td>1</td>\n",
       "      <td>1</td>\n",
       "      <td>0</td>\n",
       "      <td>38.0</td>\n",
       "      <td>1</td>\n",
       "      <td>0</td>\n",
       "      <td>71.2833</td>\n",
       "      <td>C</td>\n",
       "    </tr>\n",
       "    <tr>\n",
       "      <th>3</th>\n",
       "      <td>1</td>\n",
       "      <td>3</td>\n",
       "      <td>0</td>\n",
       "      <td>26.0</td>\n",
       "      <td>0</td>\n",
       "      <td>0</td>\n",
       "      <td>7.9250</td>\n",
       "      <td>S</td>\n",
       "    </tr>\n",
       "    <tr>\n",
       "      <th>4</th>\n",
       "      <td>1</td>\n",
       "      <td>1</td>\n",
       "      <td>0</td>\n",
       "      <td>35.0</td>\n",
       "      <td>1</td>\n",
       "      <td>0</td>\n",
       "      <td>53.1000</td>\n",
       "      <td>S</td>\n",
       "    </tr>\n",
       "    <tr>\n",
       "      <th>5</th>\n",
       "      <td>0</td>\n",
       "      <td>3</td>\n",
       "      <td>1</td>\n",
       "      <td>35.0</td>\n",
       "      <td>0</td>\n",
       "      <td>0</td>\n",
       "      <td>8.0500</td>\n",
       "      <td>S</td>\n",
       "    </tr>\n",
       "  </tbody>\n",
       "</table>\n",
       "</div>"
      ],
      "text/plain": [
       "             Survived  Pclass  Sex   Age  SibSp  Parch     Fare Embarked\n",
       "PassengerId                                                             \n",
       "1                   0       3    1  22.0      1      0   7.2500        S\n",
       "2                   1       1    0  38.0      1      0  71.2833        C\n",
       "3                   1       3    0  26.0      0      0   7.9250        S\n",
       "4                   1       1    0  35.0      1      0  53.1000        S\n",
       "5                   0       3    1  35.0      0      0   8.0500        S"
      ]
     },
     "execution_count": 15,
     "metadata": {},
     "output_type": "execute_result"
    }
   ],
   "source": [
    "train_df.drop(columns = ['Cabin','Cabin Code'], inplace = True)\n",
    "train_df.head()"
   ]
  },
  {
   "cell_type": "code",
   "execution_count": 16,
   "id": "4ebeeff2",
   "metadata": {
    "execution": {
     "iopub.execute_input": "2022-09-07T12:33:19.896657Z",
     "iopub.status.busy": "2022-09-07T12:33:19.895866Z",
     "iopub.status.idle": "2022-09-07T12:33:20.923840Z",
     "shell.execute_reply": "2022-09-07T12:33:20.922832Z"
    },
    "papermill": {
     "duration": 1.045781,
     "end_time": "2022-09-07T12:33:20.926486",
     "exception": false,
     "start_time": "2022-09-07T12:33:19.880705",
     "status": "completed"
    },
    "tags": []
   },
   "outputs": [],
   "source": [
    "from sklearn.preprocessing import LabelEncoder, OneHotEncoder\n",
    "label_encoder = LabelEncoder()\n",
    "ohe = OneHotEncoder(drop = 'first')\n"
   ]
  },
  {
   "cell_type": "markdown",
   "id": "18d1911e",
   "metadata": {
    "papermill": {
     "duration": 0.014412,
     "end_time": "2022-09-07T12:33:20.955205",
     "exception": false,
     "start_time": "2022-09-07T12:33:20.940793",
     "status": "completed"
    },
    "tags": []
   },
   "source": [
    "OHE Plass and embarked\n",
    "\n",
    "standardize/normalize age and fare \n",
    "\n",
    "fare and pclass (high correlation? consider removing fare?)"
   ]
  },
  {
   "cell_type": "code",
   "execution_count": 17,
   "id": "55cc55e9",
   "metadata": {
    "execution": {
     "iopub.execute_input": "2022-09-07T12:33:20.986518Z",
     "iopub.status.busy": "2022-09-07T12:33:20.985636Z",
     "iopub.status.idle": "2022-09-07T12:33:21.007725Z",
     "shell.execute_reply": "2022-09-07T12:33:21.006401Z"
    },
    "papermill": {
     "duration": 0.041408,
     "end_time": "2022-09-07T12:33:21.010726",
     "exception": false,
     "start_time": "2022-09-07T12:33:20.969318",
     "status": "completed"
    },
    "tags": []
   },
   "outputs": [
    {
     "data": {
      "text/html": [
       "<div>\n",
       "<style scoped>\n",
       "    .dataframe tbody tr th:only-of-type {\n",
       "        vertical-align: middle;\n",
       "    }\n",
       "\n",
       "    .dataframe tbody tr th {\n",
       "        vertical-align: top;\n",
       "    }\n",
       "\n",
       "    .dataframe thead th {\n",
       "        text-align: right;\n",
       "    }\n",
       "</style>\n",
       "<table border=\"1\" class=\"dataframe\">\n",
       "  <thead>\n",
       "    <tr style=\"text-align: right;\">\n",
       "      <th></th>\n",
       "      <th>Survived</th>\n",
       "      <th>Pclass</th>\n",
       "      <th>Sex</th>\n",
       "      <th>Age</th>\n",
       "      <th>SibSp</th>\n",
       "      <th>Parch</th>\n",
       "      <th>Fare</th>\n",
       "    </tr>\n",
       "  </thead>\n",
       "  <tbody>\n",
       "    <tr>\n",
       "      <th>Survived</th>\n",
       "      <td>1.000000</td>\n",
       "      <td>-0.338481</td>\n",
       "      <td>-0.543351</td>\n",
       "      <td>-0.077221</td>\n",
       "      <td>-0.035322</td>\n",
       "      <td>0.081629</td>\n",
       "      <td>0.257307</td>\n",
       "    </tr>\n",
       "    <tr>\n",
       "      <th>Pclass</th>\n",
       "      <td>-0.338481</td>\n",
       "      <td>1.000000</td>\n",
       "      <td>0.131900</td>\n",
       "      <td>-0.369226</td>\n",
       "      <td>0.083081</td>\n",
       "      <td>0.018443</td>\n",
       "      <td>-0.549500</td>\n",
       "    </tr>\n",
       "    <tr>\n",
       "      <th>Sex</th>\n",
       "      <td>-0.543351</td>\n",
       "      <td>0.131900</td>\n",
       "      <td>1.000000</td>\n",
       "      <td>0.093254</td>\n",
       "      <td>-0.114631</td>\n",
       "      <td>-0.245489</td>\n",
       "      <td>-0.182333</td>\n",
       "    </tr>\n",
       "    <tr>\n",
       "      <th>Age</th>\n",
       "      <td>-0.077221</td>\n",
       "      <td>-0.369226</td>\n",
       "      <td>0.093254</td>\n",
       "      <td>1.000000</td>\n",
       "      <td>-0.308247</td>\n",
       "      <td>-0.189119</td>\n",
       "      <td>0.096067</td>\n",
       "    </tr>\n",
       "    <tr>\n",
       "      <th>SibSp</th>\n",
       "      <td>-0.035322</td>\n",
       "      <td>0.083081</td>\n",
       "      <td>-0.114631</td>\n",
       "      <td>-0.308247</td>\n",
       "      <td>1.000000</td>\n",
       "      <td>0.414838</td>\n",
       "      <td>0.159651</td>\n",
       "    </tr>\n",
       "    <tr>\n",
       "      <th>Parch</th>\n",
       "      <td>0.081629</td>\n",
       "      <td>0.018443</td>\n",
       "      <td>-0.245489</td>\n",
       "      <td>-0.189119</td>\n",
       "      <td>0.414838</td>\n",
       "      <td>1.000000</td>\n",
       "      <td>0.216225</td>\n",
       "    </tr>\n",
       "    <tr>\n",
       "      <th>Fare</th>\n",
       "      <td>0.257307</td>\n",
       "      <td>-0.549500</td>\n",
       "      <td>-0.182333</td>\n",
       "      <td>0.096067</td>\n",
       "      <td>0.159651</td>\n",
       "      <td>0.216225</td>\n",
       "      <td>1.000000</td>\n",
       "    </tr>\n",
       "  </tbody>\n",
       "</table>\n",
       "</div>"
      ],
      "text/plain": [
       "          Survived    Pclass       Sex       Age     SibSp     Parch      Fare\n",
       "Survived  1.000000 -0.338481 -0.543351 -0.077221 -0.035322  0.081629  0.257307\n",
       "Pclass   -0.338481  1.000000  0.131900 -0.369226  0.083081  0.018443 -0.549500\n",
       "Sex      -0.543351  0.131900  1.000000  0.093254 -0.114631 -0.245489 -0.182333\n",
       "Age      -0.077221 -0.369226  0.093254  1.000000 -0.308247 -0.189119  0.096067\n",
       "SibSp    -0.035322  0.083081 -0.114631 -0.308247  1.000000  0.414838  0.159651\n",
       "Parch     0.081629  0.018443 -0.245489 -0.189119  0.414838  1.000000  0.216225\n",
       "Fare      0.257307 -0.549500 -0.182333  0.096067  0.159651  0.216225  1.000000"
      ]
     },
     "execution_count": 17,
     "metadata": {},
     "output_type": "execute_result"
    }
   ],
   "source": [
    "train_df.corr()\n"
   ]
  },
  {
   "cell_type": "code",
   "execution_count": 18,
   "id": "434bc09f",
   "metadata": {
    "execution": {
     "iopub.execute_input": "2022-09-07T12:33:21.043357Z",
     "iopub.status.busy": "2022-09-07T12:33:21.042319Z",
     "iopub.status.idle": "2022-09-07T12:33:21.295588Z",
     "shell.execute_reply": "2022-09-07T12:33:21.294451Z"
    },
    "papermill": {
     "duration": 0.271608,
     "end_time": "2022-09-07T12:33:21.298138",
     "exception": false,
     "start_time": "2022-09-07T12:33:21.026530",
     "status": "completed"
    },
    "tags": []
   },
   "outputs": [
    {
     "data": {
      "text/plain": [
       "(array([ 54.,  46., 177., 169., 118.,  70.,  45.,  24.,   9.,   2.]),\n",
       " array([ 0.42 ,  8.378, 16.336, 24.294, 32.252, 40.21 , 48.168, 56.126,\n",
       "        64.084, 72.042, 80.   ]),\n",
       " <BarContainer object of 10 artists>)"
      ]
     },
     "execution_count": 18,
     "metadata": {},
     "output_type": "execute_result"
    },
    {
     "data": {
      "image/png": "[encoded data removed]",
      "text/plain": [
       "<Figure size 432x288 with 1 Axes>"
      ]
     },
     "metadata": {
      "needs_background": "light"
     },
     "output_type": "display_data"
    }
   ],
   "source": [
    "import matplotlib.pyplot as plt\n",
    "plt.hist(train_df['Age'])"
   ]
  },
  {
   "cell_type": "code",
   "execution_count": 19,
   "id": "e2196ca4",
   "metadata": {
    "execution": {
     "iopub.execute_input": "2022-09-07T12:33:21.329825Z",
     "iopub.status.busy": "2022-09-07T12:33:21.328860Z",
     "iopub.status.idle": "2022-09-07T12:33:21.521563Z",
     "shell.execute_reply": "2022-09-07T12:33:21.520394Z"
    },
    "papermill": {
     "duration": 0.211719,
     "end_time": "2022-09-07T12:33:21.524703",
     "exception": false,
     "start_time": "2022-09-07T12:33:21.312984",
     "status": "completed"
    },
    "tags": []
   },
   "outputs": [],
   "source": [
    "from sklearn.impute import KNNImputer\n",
    "imputer = KNNImputer(n_neighbors=3, weights=\"uniform\")\n",
    "age_imputed = imputer.fit_transform(train_df[['Age']])\n",
    "\n",
    "train_df['Age Imp'] =  age_imputed"
   ]
  },
  {
   "cell_type": "code",
   "execution_count": 20,
   "id": "972db113",
   "metadata": {
    "execution": {
     "iopub.execute_input": "2022-09-07T12:33:21.556167Z",
     "iopub.status.busy": "2022-09-07T12:33:21.555637Z",
     "iopub.status.idle": "2022-09-07T12:33:21.560525Z",
     "shell.execute_reply": "2022-09-07T12:33:21.559666Z"
    },
    "papermill": {
     "duration": 0.023028,
     "end_time": "2022-09-07T12:33:21.562582",
     "exception": false,
     "start_time": "2022-09-07T12:33:21.539554",
     "status": "completed"
    },
    "tags": []
   },
   "outputs": [],
   "source": [
    "from sklearn.preprocessing import StandardScaler, MinMaxScaler\n",
    "\n",
    "ss = StandardScaler()\n",
    "mm = MinMaxScaler()"
   ]
  },
  {
   "cell_type": "code",
   "execution_count": 21,
   "id": "6797e435",
   "metadata": {
    "execution": {
     "iopub.execute_input": "2022-09-07T12:33:21.594914Z",
     "iopub.status.busy": "2022-09-07T12:33:21.594322Z",
     "iopub.status.idle": "2022-09-07T12:33:21.612145Z",
     "shell.execute_reply": "2022-09-07T12:33:21.611156Z"
    },
    "papermill": {
     "duration": 0.036824,
     "end_time": "2022-09-07T12:33:21.614361",
     "exception": false,
     "start_time": "2022-09-07T12:33:21.577537",
     "status": "completed"
    },
    "tags": []
   },
   "outputs": [
    {
     "data": {
      "text/html": [
       "<div>\n",
       "<style scoped>\n",
       "    .dataframe tbody tr th:only-of-type {\n",
       "        vertical-align: middle;\n",
       "    }\n",
       "\n",
       "    .dataframe tbody tr th {\n",
       "        vertical-align: top;\n",
       "    }\n",
       "\n",
       "    .dataframe thead th {\n",
       "        text-align: right;\n",
       "    }\n",
       "</style>\n",
       "<table border=\"1\" class=\"dataframe\">\n",
       "  <thead>\n",
       "    <tr style=\"text-align: right;\">\n",
       "      <th></th>\n",
       "      <th>Survived</th>\n",
       "      <th>Pclass</th>\n",
       "      <th>Sex</th>\n",
       "      <th>Age</th>\n",
       "      <th>SibSp</th>\n",
       "      <th>Parch</th>\n",
       "      <th>Fare</th>\n",
       "      <th>Embarked</th>\n",
       "      <th>Age Imp</th>\n",
       "    </tr>\n",
       "    <tr>\n",
       "      <th>PassengerId</th>\n",
       "      <th></th>\n",
       "      <th></th>\n",
       "      <th></th>\n",
       "      <th></th>\n",
       "      <th></th>\n",
       "      <th></th>\n",
       "      <th></th>\n",
       "      <th></th>\n",
       "      <th></th>\n",
       "    </tr>\n",
       "  </thead>\n",
       "  <tbody>\n",
       "    <tr>\n",
       "      <th>1</th>\n",
       "      <td>0</td>\n",
       "      <td>3</td>\n",
       "      <td>1</td>\n",
       "      <td>22.0</td>\n",
       "      <td>1</td>\n",
       "      <td>0</td>\n",
       "      <td>0.014151</td>\n",
       "      <td>S</td>\n",
       "      <td>0.271174</td>\n",
       "    </tr>\n",
       "    <tr>\n",
       "      <th>2</th>\n",
       "      <td>1</td>\n",
       "      <td>1</td>\n",
       "      <td>0</td>\n",
       "      <td>38.0</td>\n",
       "      <td>1</td>\n",
       "      <td>0</td>\n",
       "      <td>0.139136</td>\n",
       "      <td>C</td>\n",
       "      <td>0.472229</td>\n",
       "    </tr>\n",
       "    <tr>\n",
       "      <th>3</th>\n",
       "      <td>1</td>\n",
       "      <td>3</td>\n",
       "      <td>0</td>\n",
       "      <td>26.0</td>\n",
       "      <td>0</td>\n",
       "      <td>0</td>\n",
       "      <td>0.015469</td>\n",
       "      <td>S</td>\n",
       "      <td>0.321438</td>\n",
       "    </tr>\n",
       "    <tr>\n",
       "      <th>4</th>\n",
       "      <td>1</td>\n",
       "      <td>1</td>\n",
       "      <td>0</td>\n",
       "      <td>35.0</td>\n",
       "      <td>1</td>\n",
       "      <td>0</td>\n",
       "      <td>0.103644</td>\n",
       "      <td>S</td>\n",
       "      <td>0.434531</td>\n",
       "    </tr>\n",
       "    <tr>\n",
       "      <th>5</th>\n",
       "      <td>0</td>\n",
       "      <td>3</td>\n",
       "      <td>1</td>\n",
       "      <td>35.0</td>\n",
       "      <td>0</td>\n",
       "      <td>0</td>\n",
       "      <td>0.015713</td>\n",
       "      <td>S</td>\n",
       "      <td>0.434531</td>\n",
       "    </tr>\n",
       "  </tbody>\n",
       "</table>\n",
       "</div>"
      ],
      "text/plain": [
       "             Survived  Pclass  Sex   Age  SibSp  Parch      Fare Embarked  \\\n",
       "PassengerId                                                                 \n",
       "1                   0       3    1  22.0      1      0  0.014151        S   \n",
       "2                   1       1    0  38.0      1      0  0.139136        C   \n",
       "3                   1       3    0  26.0      0      0  0.015469        S   \n",
       "4                   1       1    0  35.0      1      0  0.103644        S   \n",
       "5                   0       3    1  35.0      0      0  0.015713        S   \n",
       "\n",
       "              Age Imp  \n",
       "PassengerId            \n",
       "1            0.271174  \n",
       "2            0.472229  \n",
       "3            0.321438  \n",
       "4            0.434531  \n",
       "5            0.434531  "
      ]
     },
     "execution_count": 21,
     "metadata": {},
     "output_type": "execute_result"
    }
   ],
   "source": [
    "train_df[['Fare','Age Imp']] = mm.fit_transform(train_df[['Fare','Age Imp']])\n",
    "train_df.head()"
   ]
  },
  {
   "cell_type": "code",
   "execution_count": 22,
   "id": "56398ec8",
   "metadata": {
    "execution": {
     "iopub.execute_input": "2022-09-07T12:33:21.646477Z",
     "iopub.status.busy": "2022-09-07T12:33:21.645789Z",
     "iopub.status.idle": "2022-09-07T12:33:21.654215Z",
     "shell.execute_reply": "2022-09-07T12:33:21.652852Z"
    },
    "papermill": {
     "duration": 0.02731,
     "end_time": "2022-09-07T12:33:21.656575",
     "exception": false,
     "start_time": "2022-09-07T12:33:21.629265",
     "status": "completed"
    },
    "tags": []
   },
   "outputs": [
    {
     "name": "stdout",
     "output_type": "stream",
     "text": [
      "[[0. 1.]\n",
      " [0. 0.]\n",
      " [0. 1.]\n",
      " ...\n",
      " [0. 1.]\n",
      " [0. 0.]\n",
      " [0. 1.]]\n"
     ]
    }
   ],
   "source": [
    "pclass_ohe = ohe.fit_transform(train_df[['Pclass']])\n",
    "print(pclass_ohe.toarray())"
   ]
  },
  {
   "cell_type": "code",
   "execution_count": 23,
   "id": "857b7097",
   "metadata": {
    "execution": {
     "iopub.execute_input": "2022-09-07T12:33:21.689318Z",
     "iopub.status.busy": "2022-09-07T12:33:21.688705Z",
     "iopub.status.idle": "2022-09-07T12:33:21.693721Z",
     "shell.execute_reply": "2022-09-07T12:33:21.692638Z"
    },
    "papermill": {
     "duration": 0.023728,
     "end_time": "2022-09-07T12:33:21.695982",
     "exception": false,
     "start_time": "2022-09-07T12:33:21.672254",
     "status": "completed"
    },
    "tags": []
   },
   "outputs": [
    {
     "name": "stdout",
     "output_type": "stream",
     "text": [
      "[array([1, 2, 3])]\n"
     ]
    }
   ],
   "source": [
    "print(ohe.categories_)"
   ]
  },
  {
   "cell_type": "code",
   "execution_count": 24,
   "id": "61fb4acf",
   "metadata": {
    "execution": {
     "iopub.execute_input": "2022-09-07T12:33:21.727855Z",
     "iopub.status.busy": "2022-09-07T12:33:21.727467Z",
     "iopub.status.idle": "2022-09-07T12:33:21.744645Z",
     "shell.execute_reply": "2022-09-07T12:33:21.743804Z"
    },
    "papermill": {
     "duration": 0.035976,
     "end_time": "2022-09-07T12:33:21.746880",
     "exception": false,
     "start_time": "2022-09-07T12:33:21.710904",
     "status": "completed"
    },
    "tags": []
   },
   "outputs": [
    {
     "data": {
      "text/html": [
       "<div>\n",
       "<style scoped>\n",
       "    .dataframe tbody tr th:only-of-type {\n",
       "        vertical-align: middle;\n",
       "    }\n",
       "\n",
       "    .dataframe tbody tr th {\n",
       "        vertical-align: top;\n",
       "    }\n",
       "\n",
       "    .dataframe thead th {\n",
       "        text-align: right;\n",
       "    }\n",
       "</style>\n",
       "<table border=\"1\" class=\"dataframe\">\n",
       "  <thead>\n",
       "    <tr style=\"text-align: right;\">\n",
       "      <th></th>\n",
       "      <th>Survived</th>\n",
       "      <th>Pclass</th>\n",
       "      <th>Sex</th>\n",
       "      <th>Age</th>\n",
       "      <th>SibSp</th>\n",
       "      <th>Parch</th>\n",
       "      <th>Fare</th>\n",
       "      <th>Embarked</th>\n",
       "      <th>Age Imp</th>\n",
       "      <th>P2</th>\n",
       "      <th>P3</th>\n",
       "    </tr>\n",
       "    <tr>\n",
       "      <th>PassengerId</th>\n",
       "      <th></th>\n",
       "      <th></th>\n",
       "      <th></th>\n",
       "      <th></th>\n",
       "      <th></th>\n",
       "      <th></th>\n",
       "      <th></th>\n",
       "      <th></th>\n",
       "      <th></th>\n",
       "      <th></th>\n",
       "      <th></th>\n",
       "    </tr>\n",
       "  </thead>\n",
       "  <tbody>\n",
       "    <tr>\n",
       "      <th>1</th>\n",
       "      <td>0</td>\n",
       "      <td>3</td>\n",
       "      <td>1</td>\n",
       "      <td>22.0</td>\n",
       "      <td>1</td>\n",
       "      <td>0</td>\n",
       "      <td>0.014151</td>\n",
       "      <td>S</td>\n",
       "      <td>0.271174</td>\n",
       "      <td>0.0</td>\n",
       "      <td>1.0</td>\n",
       "    </tr>\n",
       "    <tr>\n",
       "      <th>2</th>\n",
       "      <td>1</td>\n",
       "      <td>1</td>\n",
       "      <td>0</td>\n",
       "      <td>38.0</td>\n",
       "      <td>1</td>\n",
       "      <td>0</td>\n",
       "      <td>0.139136</td>\n",
       "      <td>C</td>\n",
       "      <td>0.472229</td>\n",
       "      <td>0.0</td>\n",
       "      <td>0.0</td>\n",
       "    </tr>\n",
       "    <tr>\n",
       "      <th>3</th>\n",
       "      <td>1</td>\n",
       "      <td>3</td>\n",
       "      <td>0</td>\n",
       "      <td>26.0</td>\n",
       "      <td>0</td>\n",
       "      <td>0</td>\n",
       "      <td>0.015469</td>\n",
       "      <td>S</td>\n",
       "      <td>0.321438</td>\n",
       "      <td>0.0</td>\n",
       "      <td>1.0</td>\n",
       "    </tr>\n",
       "    <tr>\n",
       "      <th>4</th>\n",
       "      <td>1</td>\n",
       "      <td>1</td>\n",
       "      <td>0</td>\n",
       "      <td>35.0</td>\n",
       "      <td>1</td>\n",
       "      <td>0</td>\n",
       "      <td>0.103644</td>\n",
       "      <td>S</td>\n",
       "      <td>0.434531</td>\n",
       "      <td>0.0</td>\n",
       "      <td>0.0</td>\n",
       "    </tr>\n",
       "    <tr>\n",
       "      <th>5</th>\n",
       "      <td>0</td>\n",
       "      <td>3</td>\n",
       "      <td>1</td>\n",
       "      <td>35.0</td>\n",
       "      <td>0</td>\n",
       "      <td>0</td>\n",
       "      <td>0.015713</td>\n",
       "      <td>S</td>\n",
       "      <td>0.434531</td>\n",
       "      <td>0.0</td>\n",
       "      <td>1.0</td>\n",
       "    </tr>\n",
       "  </tbody>\n",
       "</table>\n",
       "</div>"
      ],
      "text/plain": [
       "             Survived  Pclass  Sex   Age  SibSp  Parch      Fare Embarked  \\\n",
       "PassengerId                                                                 \n",
       "1                   0       3    1  22.0      1      0  0.014151        S   \n",
       "2                   1       1    0  38.0      1      0  0.139136        C   \n",
       "3                   1       3    0  26.0      0      0  0.015469        S   \n",
       "4                   1       1    0  35.0      1      0  0.103644        S   \n",
       "5                   0       3    1  35.0      0      0  0.015713        S   \n",
       "\n",
       "              Age Imp   P2   P3  \n",
       "PassengerId                      \n",
       "1            0.271174  0.0  1.0  \n",
       "2            0.472229  0.0  0.0  \n",
       "3            0.321438  0.0  1.0  \n",
       "4            0.434531  0.0  0.0  \n",
       "5            0.434531  0.0  1.0  "
      ]
     },
     "execution_count": 24,
     "metadata": {},
     "output_type": "execute_result"
    }
   ],
   "source": [
    "train_df[['P2','P3']] = pclass_ohe.toarray()\n",
    "train_df.head()"
   ]
  },
  {
   "cell_type": "code",
   "execution_count": 25,
   "id": "9e24690b",
   "metadata": {
    "execution": {
     "iopub.execute_input": "2022-09-07T12:33:21.780559Z",
     "iopub.status.busy": "2022-09-07T12:33:21.779909Z",
     "iopub.status.idle": "2022-09-07T12:33:21.788817Z",
     "shell.execute_reply": "2022-09-07T12:33:21.787497Z"
    },
    "papermill": {
     "duration": 0.029835,
     "end_time": "2022-09-07T12:33:21.792076",
     "exception": false,
     "start_time": "2022-09-07T12:33:21.762241",
     "status": "completed"
    },
    "tags": []
   },
   "outputs": [
    {
     "name": "stdout",
     "output_type": "stream",
     "text": [
      "[[0. 0. 1. 0.]\n",
      " [1. 0. 0. 0.]\n",
      " [0. 0. 1. 0.]\n",
      " ...\n",
      " [0. 0. 1. 0.]\n",
      " [1. 0. 0. 0.]\n",
      " [0. 1. 0. 0.]]\n"
     ]
    }
   ],
   "source": [
    "ohe2 = OneHotEncoder(drop = 'if_binary')\n",
    "emb_ohe = ohe2.fit_transform(train_df[['Embarked']])\n",
    "print(emb_ohe.toarray())"
   ]
  },
  {
   "cell_type": "code",
   "execution_count": 26,
   "id": "4e78624c",
   "metadata": {
    "execution": {
     "iopub.execute_input": "2022-09-07T12:33:21.826299Z",
     "iopub.status.busy": "2022-09-07T12:33:21.825231Z",
     "iopub.status.idle": "2022-09-07T12:33:21.830677Z",
     "shell.execute_reply": "2022-09-07T12:33:21.829840Z"
    },
    "papermill": {
     "duration": 0.025221,
     "end_time": "2022-09-07T12:33:21.833101",
     "exception": false,
     "start_time": "2022-09-07T12:33:21.807880",
     "status": "completed"
    },
    "tags": []
   },
   "outputs": [
    {
     "name": "stdout",
     "output_type": "stream",
     "text": [
      "[array([1, 2, 3])]\n"
     ]
    }
   ],
   "source": [
    "print(ohe.categories_)"
   ]
  },
  {
   "cell_type": "code",
   "execution_count": 27,
   "id": "294f9fde",
   "metadata": {
    "execution": {
     "iopub.execute_input": "2022-09-07T12:33:21.866157Z",
     "iopub.status.busy": "2022-09-07T12:33:21.865719Z",
     "iopub.status.idle": "2022-09-07T12:33:21.887916Z",
     "shell.execute_reply": "2022-09-07T12:33:21.886799Z"
    },
    "papermill": {
     "duration": 0.041571,
     "end_time": "2022-09-07T12:33:21.890493",
     "exception": false,
     "start_time": "2022-09-07T12:33:21.848922",
     "status": "completed"
    },
    "tags": []
   },
   "outputs": [
    {
     "data": {
      "text/html": [
       "<div>\n",
       "<style scoped>\n",
       "    .dataframe tbody tr th:only-of-type {\n",
       "        vertical-align: middle;\n",
       "    }\n",
       "\n",
       "    .dataframe tbody tr th {\n",
       "        vertical-align: top;\n",
       "    }\n",
       "\n",
       "    .dataframe thead th {\n",
       "        text-align: right;\n",
       "    }\n",
       "</style>\n",
       "<table border=\"1\" class=\"dataframe\">\n",
       "  <thead>\n",
       "    <tr style=\"text-align: right;\">\n",
       "      <th></th>\n",
       "      <th>Survived</th>\n",
       "      <th>Pclass</th>\n",
       "      <th>Sex</th>\n",
       "      <th>Age</th>\n",
       "      <th>SibSp</th>\n",
       "      <th>Parch</th>\n",
       "      <th>Fare</th>\n",
       "      <th>Embarked</th>\n",
       "      <th>Age Imp</th>\n",
       "      <th>P2</th>\n",
       "      <th>P3</th>\n",
       "      <th>Emb C</th>\n",
       "      <th>Emb Q</th>\n",
       "      <th>Emb S</th>\n",
       "    </tr>\n",
       "    <tr>\n",
       "      <th>PassengerId</th>\n",
       "      <th></th>\n",
       "      <th></th>\n",
       "      <th></th>\n",
       "      <th></th>\n",
       "      <th></th>\n",
       "      <th></th>\n",
       "      <th></th>\n",
       "      <th></th>\n",
       "      <th></th>\n",
       "      <th></th>\n",
       "      <th></th>\n",
       "      <th></th>\n",
       "      <th></th>\n",
       "      <th></th>\n",
       "    </tr>\n",
       "  </thead>\n",
       "  <tbody>\n",
       "    <tr>\n",
       "      <th>1</th>\n",
       "      <td>0</td>\n",
       "      <td>3</td>\n",
       "      <td>1</td>\n",
       "      <td>22.0</td>\n",
       "      <td>1</td>\n",
       "      <td>0</td>\n",
       "      <td>0.014151</td>\n",
       "      <td>S</td>\n",
       "      <td>0.271174</td>\n",
       "      <td>0.0</td>\n",
       "      <td>1.0</td>\n",
       "      <td>0.0</td>\n",
       "      <td>0.0</td>\n",
       "      <td>1.0</td>\n",
       "    </tr>\n",
       "    <tr>\n",
       "      <th>2</th>\n",
       "      <td>1</td>\n",
       "      <td>1</td>\n",
       "      <td>0</td>\n",
       "      <td>38.0</td>\n",
       "      <td>1</td>\n",
       "      <td>0</td>\n",
       "      <td>0.139136</td>\n",
       "      <td>C</td>\n",
       "      <td>0.472229</td>\n",
       "      <td>0.0</td>\n",
       "      <td>0.0</td>\n",
       "      <td>1.0</td>\n",
       "      <td>0.0</td>\n",
       "      <td>0.0</td>\n",
       "    </tr>\n",
       "    <tr>\n",
       "      <th>3</th>\n",
       "      <td>1</td>\n",
       "      <td>3</td>\n",
       "      <td>0</td>\n",
       "      <td>26.0</td>\n",
       "      <td>0</td>\n",
       "      <td>0</td>\n",
       "      <td>0.015469</td>\n",
       "      <td>S</td>\n",
       "      <td>0.321438</td>\n",
       "      <td>0.0</td>\n",
       "      <td>1.0</td>\n",
       "      <td>0.0</td>\n",
       "      <td>0.0</td>\n",
       "      <td>1.0</td>\n",
       "    </tr>\n",
       "    <tr>\n",
       "      <th>4</th>\n",
       "      <td>1</td>\n",
       "      <td>1</td>\n",
       "      <td>0</td>\n",
       "      <td>35.0</td>\n",
       "      <td>1</td>\n",
       "      <td>0</td>\n",
       "      <td>0.103644</td>\n",
       "      <td>S</td>\n",
       "      <td>0.434531</td>\n",
       "      <td>0.0</td>\n",
       "      <td>0.0</td>\n",
       "      <td>0.0</td>\n",
       "      <td>0.0</td>\n",
       "      <td>1.0</td>\n",
       "    </tr>\n",
       "    <tr>\n",
       "      <th>5</th>\n",
       "      <td>0</td>\n",
       "      <td>3</td>\n",
       "      <td>1</td>\n",
       "      <td>35.0</td>\n",
       "      <td>0</td>\n",
       "      <td>0</td>\n",
       "      <td>0.015713</td>\n",
       "      <td>S</td>\n",
       "      <td>0.434531</td>\n",
       "      <td>0.0</td>\n",
       "      <td>1.0</td>\n",
       "      <td>0.0</td>\n",
       "      <td>0.0</td>\n",
       "      <td>1.0</td>\n",
       "    </tr>\n",
       "  </tbody>\n",
       "</table>\n",
       "</div>"
      ],
      "text/plain": [
       "             Survived  Pclass  Sex   Age  SibSp  Parch      Fare Embarked  \\\n",
       "PassengerId                                                                 \n",
       "1                   0       3    1  22.0      1      0  0.014151        S   \n",
       "2                   1       1    0  38.0      1      0  0.139136        C   \n",
       "3                   1       3    0  26.0      0      0  0.015469        S   \n",
       "4                   1       1    0  35.0      1      0  0.103644        S   \n",
       "5                   0       3    1  35.0      0      0  0.015713        S   \n",
       "\n",
       "              Age Imp   P2   P3  Emb C  Emb Q  Emb S  \n",
       "PassengerId                                           \n",
       "1            0.271174  0.0  1.0    0.0    0.0    1.0  \n",
       "2            0.472229  0.0  0.0    1.0    0.0    0.0  \n",
       "3            0.321438  0.0  1.0    0.0    0.0    1.0  \n",
       "4            0.434531  0.0  0.0    0.0    0.0    1.0  \n",
       "5            0.434531  0.0  1.0    0.0    0.0    1.0  "
      ]
     },
     "execution_count": 27,
     "metadata": {},
     "output_type": "execute_result"
    }
   ],
   "source": [
    "train_df[['Emb C','Emb Q','Emb S']] = emb_ohe.toarray()[:,0:3]\n",
    "train_df.head()"
   ]
  },
  {
   "cell_type": "code",
   "execution_count": 28,
   "id": "d7a7a87a",
   "metadata": {
    "execution": {
     "iopub.execute_input": "2022-09-07T12:33:21.924392Z",
     "iopub.status.busy": "2022-09-07T12:33:21.923646Z",
     "iopub.status.idle": "2022-09-07T12:33:21.945790Z",
     "shell.execute_reply": "2022-09-07T12:33:21.944512Z"
    },
    "papermill": {
     "duration": 0.041619,
     "end_time": "2022-09-07T12:33:21.948123",
     "exception": false,
     "start_time": "2022-09-07T12:33:21.906504",
     "status": "completed"
    },
    "tags": []
   },
   "outputs": [
    {
     "data": {
      "text/html": [
       "<div>\n",
       "<style scoped>\n",
       "    .dataframe tbody tr th:only-of-type {\n",
       "        vertical-align: middle;\n",
       "    }\n",
       "\n",
       "    .dataframe tbody tr th {\n",
       "        vertical-align: top;\n",
       "    }\n",
       "\n",
       "    .dataframe thead th {\n",
       "        text-align: right;\n",
       "    }\n",
       "</style>\n",
       "<table border=\"1\" class=\"dataframe\">\n",
       "  <thead>\n",
       "    <tr style=\"text-align: right;\">\n",
       "      <th></th>\n",
       "      <th>Survived</th>\n",
       "      <th>Sex</th>\n",
       "      <th>Age</th>\n",
       "      <th>SibSp</th>\n",
       "      <th>Parch</th>\n",
       "      <th>Fare</th>\n",
       "      <th>Age Imp</th>\n",
       "      <th>P2</th>\n",
       "      <th>P3</th>\n",
       "      <th>Emb C</th>\n",
       "      <th>Emb Q</th>\n",
       "      <th>Emb S</th>\n",
       "    </tr>\n",
       "    <tr>\n",
       "      <th>PassengerId</th>\n",
       "      <th></th>\n",
       "      <th></th>\n",
       "      <th></th>\n",
       "      <th></th>\n",
       "      <th></th>\n",
       "      <th></th>\n",
       "      <th></th>\n",
       "      <th></th>\n",
       "      <th></th>\n",
       "      <th></th>\n",
       "      <th></th>\n",
       "      <th></th>\n",
       "    </tr>\n",
       "  </thead>\n",
       "  <tbody>\n",
       "    <tr>\n",
       "      <th>1</th>\n",
       "      <td>0</td>\n",
       "      <td>1</td>\n",
       "      <td>22.0</td>\n",
       "      <td>1</td>\n",
       "      <td>0</td>\n",
       "      <td>0.014151</td>\n",
       "      <td>0.271174</td>\n",
       "      <td>0.0</td>\n",
       "      <td>1.0</td>\n",
       "      <td>0.0</td>\n",
       "      <td>0.0</td>\n",
       "      <td>1.0</td>\n",
       "    </tr>\n",
       "    <tr>\n",
       "      <th>2</th>\n",
       "      <td>1</td>\n",
       "      <td>0</td>\n",
       "      <td>38.0</td>\n",
       "      <td>1</td>\n",
       "      <td>0</td>\n",
       "      <td>0.139136</td>\n",
       "      <td>0.472229</td>\n",
       "      <td>0.0</td>\n",
       "      <td>0.0</td>\n",
       "      <td>1.0</td>\n",
       "      <td>0.0</td>\n",
       "      <td>0.0</td>\n",
       "    </tr>\n",
       "    <tr>\n",
       "      <th>3</th>\n",
       "      <td>1</td>\n",
       "      <td>0</td>\n",
       "      <td>26.0</td>\n",
       "      <td>0</td>\n",
       "      <td>0</td>\n",
       "      <td>0.015469</td>\n",
       "      <td>0.321438</td>\n",
       "      <td>0.0</td>\n",
       "      <td>1.0</td>\n",
       "      <td>0.0</td>\n",
       "      <td>0.0</td>\n",
       "      <td>1.0</td>\n",
       "    </tr>\n",
       "    <tr>\n",
       "      <th>4</th>\n",
       "      <td>1</td>\n",
       "      <td>0</td>\n",
       "      <td>35.0</td>\n",
       "      <td>1</td>\n",
       "      <td>0</td>\n",
       "      <td>0.103644</td>\n",
       "      <td>0.434531</td>\n",
       "      <td>0.0</td>\n",
       "      <td>0.0</td>\n",
       "      <td>0.0</td>\n",
       "      <td>0.0</td>\n",
       "      <td>1.0</td>\n",
       "    </tr>\n",
       "    <tr>\n",
       "      <th>5</th>\n",
       "      <td>0</td>\n",
       "      <td>1</td>\n",
       "      <td>35.0</td>\n",
       "      <td>0</td>\n",
       "      <td>0</td>\n",
       "      <td>0.015713</td>\n",
       "      <td>0.434531</td>\n",
       "      <td>0.0</td>\n",
       "      <td>1.0</td>\n",
       "      <td>0.0</td>\n",
       "      <td>0.0</td>\n",
       "      <td>1.0</td>\n",
       "    </tr>\n",
       "  </tbody>\n",
       "</table>\n",
       "</div>"
      ],
      "text/plain": [
       "             Survived  Sex   Age  SibSp  Parch      Fare   Age Imp   P2   P3  \\\n",
       "PassengerId                                                                    \n",
       "1                   0    1  22.0      1      0  0.014151  0.271174  0.0  1.0   \n",
       "2                   1    0  38.0      1      0  0.139136  0.472229  0.0  0.0   \n",
       "3                   1    0  26.0      0      0  0.015469  0.321438  0.0  1.0   \n",
       "4                   1    0  35.0      1      0  0.103644  0.434531  0.0  0.0   \n",
       "5                   0    1  35.0      0      0  0.015713  0.434531  0.0  1.0   \n",
       "\n",
       "             Emb C  Emb Q  Emb S  \n",
       "PassengerId                       \n",
       "1              0.0    0.0    1.0  \n",
       "2              1.0    0.0    0.0  \n",
       "3              0.0    0.0    1.0  \n",
       "4              0.0    0.0    1.0  \n",
       "5              0.0    0.0    1.0  "
      ]
     },
     "execution_count": 28,
     "metadata": {},
     "output_type": "execute_result"
    }
   ],
   "source": [
    "train_df.drop(columns = ['Pclass','Embarked'], inplace = True)\n",
    "train_df.head()"
   ]
  },
  {
   "cell_type": "code",
   "execution_count": 29,
   "id": "dbd00115",
   "metadata": {
    "execution": {
     "iopub.execute_input": "2022-09-07T12:33:21.982996Z",
     "iopub.status.busy": "2022-09-07T12:33:21.982302Z",
     "iopub.status.idle": "2022-09-07T12:33:21.988485Z",
     "shell.execute_reply": "2022-09-07T12:33:21.987680Z"
    },
    "papermill": {
     "duration": 0.026461,
     "end_time": "2022-09-07T12:33:21.990600",
     "exception": false,
     "start_time": "2022-09-07T12:33:21.964139",
     "status": "completed"
    },
    "tags": []
   },
   "outputs": [],
   "source": [
    "x = train_df.drop(columns = ['Survived','Age'])\n",
    "y = train_df['Survived']"
   ]
  },
  {
   "cell_type": "markdown",
   "id": "207959ea",
   "metadata": {
    "papermill": {
     "duration": 0.015831,
     "end_time": "2022-09-07T12:33:22.022448",
     "exception": false,
     "start_time": "2022-09-07T12:33:22.006617",
     "status": "completed"
    },
    "tags": []
   },
   "source": [
    "visualize the feature distribution"
   ]
  },
  {
   "cell_type": "code",
   "execution_count": 30,
   "id": "a5b7f349",
   "metadata": {
    "execution": {
     "iopub.execute_input": "2022-09-07T12:33:22.056676Z",
     "iopub.status.busy": "2022-09-07T12:33:22.056029Z",
     "iopub.status.idle": "2022-09-07T12:33:22.252935Z",
     "shell.execute_reply": "2022-09-07T12:33:22.251720Z"
    },
    "papermill": {
     "duration": 0.216654,
     "end_time": "2022-09-07T12:33:22.255216",
     "exception": false,
     "start_time": "2022-09-07T12:33:22.038562",
     "status": "completed"
    },
    "tags": []
   },
   "outputs": [
    {
     "data": {
      "text/plain": [
       "(array([549.,   0.,   0.,   0.,   0.,   0.,   0.,   0.,   0., 342.]),\n",
       " array([0. , 0.1, 0.2, 0.3, 0.4, 0.5, 0.6, 0.7, 0.8, 0.9, 1. ]),\n",
       " <BarContainer object of 10 artists>)"
      ]
     },
     "execution_count": 30,
     "metadata": {},
     "output_type": "execute_result"
    },
    {
     "data": {
      "image/png": "[encoded data removed]",
      "text/plain": [
       "<Figure size 432x288 with 1 Axes>"
      ]
     },
     "metadata": {
      "needs_background": "light"
     },
     "output_type": "display_data"
    }
   ],
   "source": [
    "plt.hist(y)"
   ]
  },
  {
   "cell_type": "code",
   "execution_count": 31,
   "id": "2b05cd3a",
   "metadata": {
    "execution": {
     "iopub.execute_input": "2022-09-07T12:33:22.291219Z",
     "iopub.status.busy": "2022-09-07T12:33:22.290795Z",
     "iopub.status.idle": "2022-09-07T12:33:24.097698Z",
     "shell.execute_reply": "2022-09-07T12:33:24.096827Z"
    },
    "papermill": {
     "duration": 1.827926,
     "end_time": "2022-09-07T12:33:24.099942",
     "exception": false,
     "start_time": "2022-09-07T12:33:22.272016",
     "status": "completed"
    },
    "tags": []
   },
   "outputs": [
    {
     "data": {
      "image/png": "[encoded data removed]",
      "text/plain": [
       "<Figure size 432x288 with 1 Axes>"
      ]
     },
     "metadata": {
      "needs_background": "light"
     },
     "output_type": "display_data"
    },
    {
     "data": {
      "image/png": "[encoded data removed]",
      "text/plain": [
       "<Figure size 432x288 with 1 Axes>"
      ]
     },
     "metadata": {
      "needs_background": "light"
     },
     "output_type": "display_data"
    },
    {
     "data": {
      "image/png": "[encoded data removed]",
      "text/plain": [
       "<Figure size 432x288 with 1 Axes>"
      ]
     },
     "metadata": {
      "needs_background": "light"
     },
     "output_type": "display_data"
    },
    {
     "data": {
      "image/png": "[encoded data removed]",
      "text/plain": [
       "<Figure size 432x288 with 1 Axes>"
      ]
     },
     "metadata": {
      "needs_background": "light"
     },
     "output_type": "display_data"
    },
    {
     "data": {
      "image/png": "[encoded data removed]",
      "text/plain": [
       "<Figure size 432x288 with 1 Axes>"
      ]
     },
     "metadata": {
      "needs_background": "light"
     },
     "output_type": "display_data"
    },
    {
     "data": {
      "image/png": "[encoded data removed]",
      "text/plain": [
       "<Figure size 432x288 with 1 Axes>"
      ]
     },
     "metadata": {
      "needs_background": "light"
     },
     "output_type": "display_data"
    },
    {
     "data": {
      "image/png": "[encoded data removed]",
      "text/plain": [
       "<Figure size 432x288 with 1 Axes>"
      ]
     },
     "metadata": {
      "needs_background": "light"
     },
     "output_type": "display_data"
    },
    {
     "data": {
      "image/png": "[encoded data removed]",
      "text/plain": [
       "<Figure size 432x288 with 1 Axes>"
      ]
     },
     "metadata": {
      "needs_background": "light"
     },
     "output_type": "display_data"
    },
    {
     "data": {
      "image/png": "[encoded data removed]",
      "text/plain": [
       "<Figure size 432x288 with 1 Axes>"
      ]
     },
     "metadata": {
      "needs_background": "light"
     },
     "output_type": "display_data"
    },
    {
     "data": {
      "image/png": "[encoded data removed]",
      "text/plain": [
       "<Figure size 432x288 with 1 Axes>"
      ]
     },
     "metadata": {
      "needs_background": "light"
     },
     "output_type": "display_data"
    }
   ],
   "source": [
    "for name in x.columns:\n",
    "    plt.hist(x[name])\n",
    "    plt.title(name)\n",
    "    plt.show()"
   ]
  },
  {
   "cell_type": "markdown",
   "id": "29fe37f3",
   "metadata": {
    "papermill": {
     "duration": 0.018073,
     "end_time": "2022-09-07T12:33:24.136458",
     "exception": false,
     "start_time": "2022-09-07T12:33:24.118385",
     "status": "completed"
    },
    "tags": []
   },
   "source": [
    "stratified split\n",
    "\n",
    "k-fold cross validation\n",
    "\n",
    "hyperparameter tuning"
   ]
  },
  {
   "cell_type": "code",
   "execution_count": 32,
   "id": "dfb02d5b",
   "metadata": {
    "execution": {
     "iopub.execute_input": "2022-09-07T12:33:24.175316Z",
     "iopub.status.busy": "2022-09-07T12:33:24.174637Z",
     "iopub.status.idle": "2022-09-07T12:33:24.179156Z",
     "shell.execute_reply": "2022-09-07T12:33:24.178399Z"
    },
    "papermill": {
     "duration": 0.026456,
     "end_time": "2022-09-07T12:33:24.181361",
     "exception": false,
     "start_time": "2022-09-07T12:33:24.154905",
     "status": "completed"
    },
    "tags": []
   },
   "outputs": [],
   "source": [
    "from sklearn.linear_model import LogisticRegression\n",
    "from sklearn.model_selection import GridSearchCV, StratifiedKFold\n",
    "from sklearn.metrics import accuracy_score, precision_score, confusion_matrix, f1_score"
   ]
  },
  {
   "cell_type": "code",
   "execution_count": 33,
   "id": "9dfaa8cf",
   "metadata": {
    "execution": {
     "iopub.execute_input": "2022-09-07T12:33:24.225330Z",
     "iopub.status.busy": "2022-09-07T12:33:24.224703Z",
     "iopub.status.idle": "2022-09-07T12:33:24.229059Z",
     "shell.execute_reply": "2022-09-07T12:33:24.228221Z"
    },
    "papermill": {
     "duration": 0.03098,
     "end_time": "2022-09-07T12:33:24.231355",
     "exception": false,
     "start_time": "2022-09-07T12:33:24.200375",
     "status": "completed"
    },
    "tags": []
   },
   "outputs": [],
   "source": [
    "skf = StratifiedKFold(n_splits=5)\n",
    "MLmodel = LogisticRegression()"
   ]
  },
  {
   "cell_type": "code",
   "execution_count": 34,
   "id": "4734817c",
   "metadata": {
    "execution": {
     "iopub.execute_input": "2022-09-07T12:33:24.271696Z",
     "iopub.status.busy": "2022-09-07T12:33:24.270894Z",
     "iopub.status.idle": "2022-09-07T12:33:24.282518Z",
     "shell.execute_reply": "2022-09-07T12:33:24.281011Z"
    },
    "papermill": {
     "duration": 0.03452,
     "end_time": "2022-09-07T12:33:24.285066",
     "exception": false,
     "start_time": "2022-09-07T12:33:24.250546",
     "status": "completed"
    },
    "tags": []
   },
   "outputs": [
    {
     "name": "stdout",
     "output_type": "stream",
     "text": [
      "1 0.3854748603351955\n",
      "2 0.38202247191011235\n",
      "3 0.38202247191011235\n",
      "4 0.38202247191011235\n",
      "5 0.38764044943820225\n"
     ]
    }
   ],
   "source": [
    "fold_no =1\n",
    "for train_index, test_index in skf.split(x, y):\n",
    "    test = y.iloc[test_index]\n",
    "    print(fold_no, sum(test)/len(test))\n",
    "    \n",
    "    fold_no += 1"
   ]
  },
  {
   "cell_type": "code",
   "execution_count": 35,
   "id": "4cba12ef",
   "metadata": {
    "execution": {
     "iopub.execute_input": "2022-09-07T12:33:24.323986Z",
     "iopub.status.busy": "2022-09-07T12:33:24.323308Z",
     "iopub.status.idle": "2022-09-07T12:33:24.418210Z",
     "shell.execute_reply": "2022-09-07T12:33:24.416661Z"
    },
    "papermill": {
     "duration": 0.117618,
     "end_time": "2022-09-07T12:33:24.421096",
     "exception": false,
     "start_time": "2022-09-07T12:33:24.303478",
     "status": "completed"
    },
    "tags": []
   },
   "outputs": [
    {
     "name": "stdout",
     "output_type": "stream",
     "text": [
      "Fold 1 \n",
      " Accuracy: 0.7932960893854749 \n",
      " Presicion: 0.7424242424242424 \n",
      " F1 Score: 0.725925925925926 \n",
      " CM [[93 17]\n",
      " [20 49]] \n",
      " Columns Index(['Sex', 'SibSp', 'Parch', 'Fare', 'Age Imp', 'P2', 'P3', 'Emb C',\n",
      "       'Emb Q', 'Emb S'],\n",
      "      dtype='object') \n",
      " Coeffs: [[-2.46586924 -0.18345062 -0.11312338  0.88860998 -1.91667183 -0.80980294\n",
      "  -1.95139928  0.30776819 -0.12461493 -0.31882636]]\n",
      "Fold 2 \n",
      " Accuracy: 0.8033707865168539 \n",
      " Presicion: 0.7704918032786885 \n",
      " F1 Score: 0.7286821705426356 \n",
      " CM [[96 14]\n",
      " [21 47]] \n",
      " Columns Index(['Sex', 'SibSp', 'Parch', 'Fare', 'Age Imp', 'P2', 'P3', 'Emb C',\n",
      "       'Emb Q', 'Emb S'],\n",
      "      dtype='object') \n",
      " Coeffs: [[-2.66128238 -0.37088076 -0.07667898  0.40502099 -1.97948428 -0.68596854\n",
      "  -2.06437183  0.23748418 -0.09532155 -0.325289  ]]\n",
      "Fold 3 \n",
      " Accuracy: 0.7865168539325843 \n",
      " Presicion: 0.7205882352941176 \n",
      " F1 Score: 0.7205882352941176 \n",
      " CM [[91 19]\n",
      " [19 49]] \n",
      " Columns Index(['Sex', 'SibSp', 'Parch', 'Fare', 'Age Imp', 'P2', 'P3', 'Emb C',\n",
      "       'Emb Q', 'Emb S'],\n",
      "      dtype='object') \n",
      " Coeffs: [[-2.54032403 -0.26850518 -0.07423039  1.02355279 -2.17749193 -0.72364847\n",
      "  -1.76788409  0.13364927  0.02557412 -0.38122884]]\n",
      "Fold 4 \n",
      " Accuracy: 0.7696629213483146 \n",
      " Presicion: 0.7368421052631579 \n",
      " F1 Score: 0.6719999999999999 \n",
      " CM [[95 15]\n",
      " [26 42]] \n",
      " Columns Index(['Sex', 'SibSp', 'Parch', 'Fare', 'Age Imp', 'P2', 'P3', 'Emb C',\n",
      "       'Emb Q', 'Emb S'],\n",
      "      dtype='object') \n",
      " Coeffs: [[-2.56798125 -0.33368119  0.12817262  0.47464969 -2.2183298  -0.68707479\n",
      "  -1.70716208 -0.03088671  0.1837475  -0.40563566]]\n",
      "Fold 5 \n",
      " Accuracy: 0.8258426966292135 \n",
      " Presicion: 0.8166666666666667 \n",
      " F1 Score: 0.7596899224806202 \n",
      " CM [[98 11]\n",
      " [20 49]] \n",
      " Columns Index(['Sex', 'SibSp', 'Parch', 'Fare', 'Age Imp', 'P2', 'P3', 'Emb C',\n",
      "       'Emb Q', 'Emb S'],\n",
      "      dtype='object') \n",
      " Coeffs: [[-2.55785361 -0.2234227  -0.12526892  0.44866657 -1.75275529 -0.59484432\n",
      "  -1.80959976  0.10215528  0.12767154 -0.31512239]]\n"
     ]
    }
   ],
   "source": [
    "fold_no = 1\n",
    "\n",
    "def train_model(train_index, test_index, fold_no):\n",
    "   X_train = x.iloc[train_index]\n",
    "   y_train = y.iloc[train_index]\n",
    "   X_test = x.iloc[test_index]\n",
    "   y_test = y.iloc[test_index]\n",
    "   MLmodel.fit(X_train,y_train)\n",
    "   predictions = MLmodel.predict(X_test)\n",
    "   print('Fold',str(fold_no), '\\n', \n",
    "         'Accuracy:', accuracy_score(y_test,predictions),'\\n',\n",
    "        'Presicion:', precision_score(y_test,predictions),'\\n',\n",
    "        'F1 Score:',f1_score(y_test,predictions),'\\n',\n",
    "        'CM', confusion_matrix(y_test,predictions),'\\n',\n",
    "          'Columns',X_train.columns, '\\n',\n",
    "        'Coeffs:', MLmodel.coef_)\n",
    "\n",
    "\n",
    "for train_index, test_index in skf.split(x, y):\n",
    "    train_model(train_index,test_index,fold_no)\n",
    "    fold_no += 1\n"
   ]
  },
  {
   "cell_type": "code",
   "execution_count": 36,
   "id": "8c2179b4",
   "metadata": {
    "execution": {
     "iopub.execute_input": "2022-09-07T12:33:24.460693Z",
     "iopub.status.busy": "2022-09-07T12:33:24.459570Z",
     "iopub.status.idle": "2022-09-07T12:33:24.538241Z",
     "shell.execute_reply": "2022-09-07T12:33:24.536853Z"
    },
    "papermill": {
     "duration": 0.100942,
     "end_time": "2022-09-07T12:33:24.540803",
     "exception": false,
     "start_time": "2022-09-07T12:33:24.439861",
     "status": "completed"
    },
    "tags": []
   },
   "outputs": [
    {
     "name": "stdout",
     "output_type": "stream",
     "text": [
      "Fold 1 \n",
      " Accuracy: 0.7988826815642458 \n",
      " Presicion: 0.746268656716418 \n",
      " F1 Score: 0.7352941176470589 \n",
      " CM [[93 17]\n",
      " [19 50]] \n",
      " Columns Index(['Sex', 'SibSp', 'Parch', 'Fare', 'Age Imp', 'P2', 'P3'], dtype='object') \n",
      " Coeffs: [[-2.48195288 -0.20453041 -0.11151156  1.09186695 -1.9825707  -0.94972604\n",
      "  -2.0230496 ]]\n",
      "Fold 2 \n",
      " Accuracy: 0.7752808988764045 \n",
      " Presicion: 0.7058823529411765 \n",
      " F1 Score: 0.7058823529411765 \n",
      " CM [[90 20]\n",
      " [20 48]] \n",
      " Columns Index(['Sex', 'SibSp', 'Parch', 'Fare', 'Age Imp', 'P2', 'P3'], dtype='object') \n",
      " Coeffs: [[-2.6823981  -0.3959999  -0.07942299  0.60513037 -2.04224904 -0.82624839\n",
      "  -2.13356586]]\n",
      "Fold 3 \n",
      " Accuracy: 0.7752808988764045 \n",
      " Presicion: 0.7121212121212122 \n",
      " F1 Score: 0.7014925373134329 \n",
      " CM [[91 19]\n",
      " [21 47]] \n",
      " Columns Index(['Sex', 'SibSp', 'Parch', 'Fare', 'Age Imp', 'P2', 'P3'], dtype='object') \n",
      " Coeffs: [[-2.57947156 -0.29655073 -0.08283918  1.18503079 -2.19641574 -0.8404915\n",
      "  -1.79379776]]\n",
      "Fold 4 \n",
      " Accuracy: 0.7752808988764045 \n",
      " Presicion: 0.75 \n",
      " F1 Score: 0.6774193548387097 \n",
      " CM [[96 14]\n",
      " [26 42]] \n",
      " Columns Index(['Sex', 'SibSp', 'Parch', 'Fare', 'Age Imp', 'P2', 'P3'], dtype='object') \n",
      " Coeffs: [[-2.61869553 -0.35215677  0.1005253   0.58006448 -2.23424537 -0.77747237\n",
      "  -1.6868283 ]]\n",
      "Fold 5 \n",
      " Accuracy: 0.8202247191011236 \n",
      " Presicion: 0.8245614035087719 \n",
      " F1 Score: 0.746031746031746 \n",
      " CM [[99 10]\n",
      " [22 47]] \n",
      " Columns Index(['Sex', 'SibSp', 'Parch', 'Fare', 'Age Imp', 'P2', 'P3'], dtype='object') \n",
      " Coeffs: [[-2.60881259 -0.24323475 -0.14829245  0.58583123 -1.75826281 -0.70248265\n",
      "  -1.82494845]]\n"
     ]
    }
   ],
   "source": [
    "x2 = x.drop(columns = ['Emb C', 'Emb Q', 'Emb S'])\n",
    "\n",
    "def train_model(train_index, test_index, fold_no):\n",
    "   X_train = x2.iloc[train_index]\n",
    "   y_train = y.iloc[train_index]\n",
    "   X_test = x2.iloc[test_index]\n",
    "   y_test = y.iloc[test_index]\n",
    "   MLmodel.fit(X_train,y_train)\n",
    "   predictions = MLmodel.predict(X_test)\n",
    "   print('Fold',str(fold_no), '\\n', \n",
    "         'Accuracy:', accuracy_score(y_test,predictions),'\\n',\n",
    "        'Presicion:', precision_score(y_test,predictions),'\\n',\n",
    "        'F1 Score:',f1_score(y_test,predictions),'\\n',\n",
    "        'CM', confusion_matrix(y_test,predictions),'\\n',\n",
    "         'Columns',X_train.columns, '\\n',\n",
    "        'Coeffs:', MLmodel.coef_)\n",
    "\n",
    "fold_no = 1\n",
    "for train_index, test_index in skf.split(x, y):\n",
    "    train_model(train_index,test_index,fold_no)\n",
    "    fold_no += 1"
   ]
  },
  {
   "cell_type": "code",
   "execution_count": 37,
   "id": "7f6ca91f",
   "metadata": {
    "execution": {
     "iopub.execute_input": "2022-09-07T12:33:24.579952Z",
     "iopub.status.busy": "2022-09-07T12:33:24.579549Z",
     "iopub.status.idle": "2022-09-07T12:33:24.651716Z",
     "shell.execute_reply": "2022-09-07T12:33:24.650541Z"
    },
    "papermill": {
     "duration": 0.095101,
     "end_time": "2022-09-07T12:33:24.654614",
     "exception": false,
     "start_time": "2022-09-07T12:33:24.559513",
     "status": "completed"
    },
    "tags": []
   },
   "outputs": [
    {
     "name": "stdout",
     "output_type": "stream",
     "text": [
      "Fold 1 \n",
      " Accuracy: 0.7988826815642458 \n",
      " Presicion: 0.7391304347826086 \n",
      " F1 Score: 0.7391304347826085 \n",
      " CM [[92 18]\n",
      " [18 51]] \n",
      " Columns Index(['Sex', 'Fare', 'Age Imp', 'P2', 'P3'], dtype='object') \n",
      " Coeffs: [[-2.36658951  0.77959024 -1.79114559 -0.95786608 -2.07675175]]\n",
      "Fold 2 \n",
      " Accuracy: 0.8202247191011236 \n",
      " Presicion: 0.78125 \n",
      " F1 Score: 0.7575757575757576 \n",
      " CM [[96 14]\n",
      " [18 50]] \n",
      " Columns Index(['Sex', 'Fare', 'Age Imp', 'P2', 'P3'], dtype='object') \n",
      " Coeffs: [[-2.49572138  0.18277133 -1.66023219 -0.83557037 -2.16895819]]\n",
      "Fold 3 \n",
      " Accuracy: 0.7696629213483146 \n",
      " Presicion: 0.7014925373134329 \n",
      " F1 Score: 0.6962962962962963 \n",
      " CM [[90 20]\n",
      " [21 47]] \n",
      " Columns Index(['Sex', 'Fare', 'Age Imp', 'P2', 'P3'], dtype='object') \n",
      " Coeffs: [[-2.44680827  0.77456474 -1.87489004 -0.83894677 -1.86969827]]\n",
      "Fold 4 \n",
      " Accuracy: 0.7528089887640449 \n",
      " Presicion: 0.7142857142857143 \n",
      " F1 Score: 0.6451612903225806 \n",
      " CM [[94 16]\n",
      " [28 40]] \n",
      " Columns Index(['Sex', 'Fare', 'Age Imp', 'P2', 'P3'], dtype='object') \n",
      " Coeffs: [[-2.53844753  0.28853404 -1.94665858 -0.76540308 -1.75386103]]\n",
      "Fold 5 \n",
      " Accuracy: 0.797752808988764 \n",
      " Presicion: 0.7704918032786885 \n",
      " F1 Score: 0.7230769230769231 \n",
      " CM [[95 14]\n",
      " [22 47]] \n",
      " Columns Index(['Sex', 'Fare', 'Age Imp', 'P2', 'P3'], dtype='object') \n",
      " Coeffs: [[-2.48743325  0.17468266 -1.43681817 -0.70292918 -1.87571543]]\n"
     ]
    }
   ],
   "source": [
    "x2 = x.drop(columns = ['Emb C', 'Emb Q', 'Emb S','SibSp', 'Parch'])\n",
    "\n",
    "def train_model(train_index, test_index, fold_no):\n",
    "   X_train = x2.iloc[train_index]\n",
    "   y_train = y.iloc[train_index]\n",
    "   X_test = x2.iloc[test_index]\n",
    "   y_test = y.iloc[test_index]\n",
    "   MLmodel.fit(X_train,y_train)\n",
    "   predictions = MLmodel.predict(X_test)\n",
    "   print('Fold',str(fold_no), '\\n', \n",
    "         'Accuracy:', accuracy_score(y_test,predictions),'\\n',\n",
    "        'Presicion:', precision_score(y_test,predictions),'\\n',\n",
    "        'F1 Score:',f1_score(y_test,predictions),'\\n',\n",
    "        'CM', confusion_matrix(y_test,predictions),'\\n',\n",
    "         'Columns',X_train.columns, '\\n',\n",
    "        'Coeffs:', MLmodel.coef_)\n",
    "\n",
    "fold_no = 1\n",
    "for train_index, test_index in skf.split(x, y):\n",
    "    train_model(train_index,test_index,fold_no)\n",
    "    fold_no += 1"
   ]
  },
  {
   "cell_type": "markdown",
   "id": "113f62e1",
   "metadata": {
    "papermill": {
     "duration": 0.018077,
     "end_time": "2022-09-07T12:33:24.691595",
     "exception": false,
     "start_time": "2022-09-07T12:33:24.673518",
     "status": "completed"
    },
    "tags": []
   },
   "source": []
  },
  {
   "cell_type": "markdown",
   "id": "66cfb4a4",
   "metadata": {
    "papermill": {
     "duration": 0.01827,
     "end_time": "2022-09-07T12:33:24.728298",
     "exception": false,
     "start_time": "2022-09-07T12:33:24.710028",
     "status": "completed"
    },
    "tags": []
   },
   "source": [
    "Test Data"
   ]
  },
  {
   "cell_type": "code",
   "execution_count": 38,
   "id": "2820d517",
   "metadata": {
    "execution": {
     "iopub.execute_input": "2022-09-07T12:33:24.766964Z",
     "iopub.status.busy": "2022-09-07T12:33:24.766528Z",
     "iopub.status.idle": "2022-09-07T12:33:24.783355Z",
     "shell.execute_reply": "2022-09-07T12:33:24.782292Z"
    },
    "papermill": {
     "duration": 0.038942,
     "end_time": "2022-09-07T12:33:24.785534",
     "exception": false,
     "start_time": "2022-09-07T12:33:24.746592",
     "status": "completed"
    },
    "tags": []
   },
   "outputs": [
    {
     "data": {
      "text/html": [
       "<div>\n",
       "<style scoped>\n",
       "    .dataframe tbody tr th:only-of-type {\n",
       "        vertical-align: middle;\n",
       "    }\n",
       "\n",
       "    .dataframe tbody tr th {\n",
       "        vertical-align: top;\n",
       "    }\n",
       "\n",
       "    .dataframe thead th {\n",
       "        text-align: right;\n",
       "    }\n",
       "</style>\n",
       "<table border=\"1\" class=\"dataframe\">\n",
       "  <thead>\n",
       "    <tr style=\"text-align: right;\">\n",
       "      <th></th>\n",
       "      <th>PassengerId</th>\n",
       "      <th>Pclass</th>\n",
       "      <th>Name</th>\n",
       "      <th>Sex</th>\n",
       "      <th>Age</th>\n",
       "      <th>SibSp</th>\n",
       "      <th>Parch</th>\n",
       "      <th>Ticket</th>\n",
       "      <th>Fare</th>\n",
       "      <th>Cabin</th>\n",
       "      <th>Embarked</th>\n",
       "    </tr>\n",
       "  </thead>\n",
       "  <tbody>\n",
       "    <tr>\n",
       "      <th>0</th>\n",
       "      <td>892</td>\n",
       "      <td>3</td>\n",
       "      <td>Kelly, Mr. James</td>\n",
       "      <td>male</td>\n",
       "      <td>34.5</td>\n",
       "      <td>0</td>\n",
       "      <td>0</td>\n",
       "      <td>330911</td>\n",
       "      <td>7.8292</td>\n",
       "      <td>NaN</td>\n",
       "      <td>Q</td>\n",
       "    </tr>\n",
       "    <tr>\n",
       "      <th>1</th>\n",
       "      <td>893</td>\n",
       "      <td>3</td>\n",
       "      <td>Wilkes, Mrs. James (Ellen Needs)</td>\n",
       "      <td>female</td>\n",
       "      <td>47.0</td>\n",
       "      <td>1</td>\n",
       "      <td>0</td>\n",
       "      <td>363272</td>\n",
       "      <td>7.0000</td>\n",
       "      <td>NaN</td>\n",
       "      <td>S</td>\n",
       "    </tr>\n",
       "    <tr>\n",
       "      <th>2</th>\n",
       "      <td>894</td>\n",
       "      <td>2</td>\n",
       "      <td>Myles, Mr. Thomas Francis</td>\n",
       "      <td>male</td>\n",
       "      <td>62.0</td>\n",
       "      <td>0</td>\n",
       "      <td>0</td>\n",
       "      <td>240276</td>\n",
       "      <td>9.6875</td>\n",
       "      <td>NaN</td>\n",
       "      <td>Q</td>\n",
       "    </tr>\n",
       "    <tr>\n",
       "      <th>3</th>\n",
       "      <td>895</td>\n",
       "      <td>3</td>\n",
       "      <td>Wirz, Mr. Albert</td>\n",
       "      <td>male</td>\n",
       "      <td>27.0</td>\n",
       "      <td>0</td>\n",
       "      <td>0</td>\n",
       "      <td>315154</td>\n",
       "      <td>8.6625</td>\n",
       "      <td>NaN</td>\n",
       "      <td>S</td>\n",
       "    </tr>\n",
       "    <tr>\n",
       "      <th>4</th>\n",
       "      <td>896</td>\n",
       "      <td>3</td>\n",
       "      <td>Hirvonen, Mrs. Alexander (Helga E Lindqvist)</td>\n",
       "      <td>female</td>\n",
       "      <td>22.0</td>\n",
       "      <td>1</td>\n",
       "      <td>1</td>\n",
       "      <td>3101298</td>\n",
       "      <td>12.2875</td>\n",
       "      <td>NaN</td>\n",
       "      <td>S</td>\n",
       "    </tr>\n",
       "  </tbody>\n",
       "</table>\n",
       "</div>"
      ],
      "text/plain": [
       "   PassengerId  Pclass                                          Name     Sex  \\\n",
       "0          892       3                              Kelly, Mr. James    male   \n",
       "1          893       3              Wilkes, Mrs. James (Ellen Needs)  female   \n",
       "2          894       2                     Myles, Mr. Thomas Francis    male   \n",
       "3          895       3                              Wirz, Mr. Albert    male   \n",
       "4          896       3  Hirvonen, Mrs. Alexander (Helga E Lindqvist)  female   \n",
       "\n",
       "    Age  SibSp  Parch   Ticket     Fare Cabin Embarked  \n",
       "0  34.5      0      0   330911   7.8292   NaN        Q  \n",
       "1  47.0      1      0   363272   7.0000   NaN        S  \n",
       "2  62.0      0      0   240276   9.6875   NaN        Q  \n",
       "3  27.0      0      0   315154   8.6625   NaN        S  \n",
       "4  22.0      1      1  3101298  12.2875   NaN        S  "
      ]
     },
     "execution_count": 38,
     "metadata": {},
     "output_type": "execute_result"
    }
   ],
   "source": [
    "test_df.head()"
   ]
  },
  {
   "cell_type": "markdown",
   "id": "6070986b",
   "metadata": {
    "papermill": {
     "duration": 0.018658,
     "end_time": "2022-09-07T12:33:24.823539",
     "exception": false,
     "start_time": "2022-09-07T12:33:24.804881",
     "status": "completed"
    },
    "tags": []
   },
   "source": [
    "Drop Name, Cabin, Ticket\n",
    "\n",
    "OHE Pclass, Sex and Embarked\n",
    "\n",
    "Impute Age\n",
    "\n",
    "Scale Age, Fare\n",
    "\n",
    "ID to Index"
   ]
  },
  {
   "cell_type": "code",
   "execution_count": 39,
   "id": "20c483df",
   "metadata": {
    "execution": {
     "iopub.execute_input": "2022-09-07T12:33:24.863471Z",
     "iopub.status.busy": "2022-09-07T12:33:24.863053Z",
     "iopub.status.idle": "2022-09-07T12:33:24.878634Z",
     "shell.execute_reply": "2022-09-07T12:33:24.877587Z"
    },
    "papermill": {
     "duration": 0.0384,
     "end_time": "2022-09-07T12:33:24.880691",
     "exception": false,
     "start_time": "2022-09-07T12:33:24.842291",
     "status": "completed"
    },
    "tags": []
   },
   "outputs": [
    {
     "data": {
      "text/html": [
       "<div>\n",
       "<style scoped>\n",
       "    .dataframe tbody tr th:only-of-type {\n",
       "        vertical-align: middle;\n",
       "    }\n",
       "\n",
       "    .dataframe tbody tr th {\n",
       "        vertical-align: top;\n",
       "    }\n",
       "\n",
       "    .dataframe thead th {\n",
       "        text-align: right;\n",
       "    }\n",
       "</style>\n",
       "<table border=\"1\" class=\"dataframe\">\n",
       "  <thead>\n",
       "    <tr style=\"text-align: right;\">\n",
       "      <th></th>\n",
       "      <th>PassengerId</th>\n",
       "      <th>Pclass</th>\n",
       "      <th>Sex</th>\n",
       "      <th>Age</th>\n",
       "      <th>SibSp</th>\n",
       "      <th>Parch</th>\n",
       "      <th>Fare</th>\n",
       "      <th>Embarked</th>\n",
       "    </tr>\n",
       "  </thead>\n",
       "  <tbody>\n",
       "    <tr>\n",
       "      <th>0</th>\n",
       "      <td>892</td>\n",
       "      <td>3</td>\n",
       "      <td>male</td>\n",
       "      <td>34.5</td>\n",
       "      <td>0</td>\n",
       "      <td>0</td>\n",
       "      <td>7.8292</td>\n",
       "      <td>Q</td>\n",
       "    </tr>\n",
       "    <tr>\n",
       "      <th>1</th>\n",
       "      <td>893</td>\n",
       "      <td>3</td>\n",
       "      <td>female</td>\n",
       "      <td>47.0</td>\n",
       "      <td>1</td>\n",
       "      <td>0</td>\n",
       "      <td>7.0000</td>\n",
       "      <td>S</td>\n",
       "    </tr>\n",
       "    <tr>\n",
       "      <th>2</th>\n",
       "      <td>894</td>\n",
       "      <td>2</td>\n",
       "      <td>male</td>\n",
       "      <td>62.0</td>\n",
       "      <td>0</td>\n",
       "      <td>0</td>\n",
       "      <td>9.6875</td>\n",
       "      <td>Q</td>\n",
       "    </tr>\n",
       "    <tr>\n",
       "      <th>3</th>\n",
       "      <td>895</td>\n",
       "      <td>3</td>\n",
       "      <td>male</td>\n",
       "      <td>27.0</td>\n",
       "      <td>0</td>\n",
       "      <td>0</td>\n",
       "      <td>8.6625</td>\n",
       "      <td>S</td>\n",
       "    </tr>\n",
       "    <tr>\n",
       "      <th>4</th>\n",
       "      <td>896</td>\n",
       "      <td>3</td>\n",
       "      <td>female</td>\n",
       "      <td>22.0</td>\n",
       "      <td>1</td>\n",
       "      <td>1</td>\n",
       "      <td>12.2875</td>\n",
       "      <td>S</td>\n",
       "    </tr>\n",
       "  </tbody>\n",
       "</table>\n",
       "</div>"
      ],
      "text/plain": [
       "   PassengerId  Pclass     Sex   Age  SibSp  Parch     Fare Embarked\n",
       "0          892       3    male  34.5      0      0   7.8292        Q\n",
       "1          893       3  female  47.0      1      0   7.0000        S\n",
       "2          894       2    male  62.0      0      0   9.6875        Q\n",
       "3          895       3    male  27.0      0      0   8.6625        S\n",
       "4          896       3  female  22.0      1      1  12.2875        S"
      ]
     },
     "execution_count": 39,
     "metadata": {},
     "output_type": "execute_result"
    }
   ],
   "source": [
    "test_df.drop(columns = ['Name', 'Cabin', 'Ticket'], inplace = True)\n",
    "test_df.head()"
   ]
  },
  {
   "cell_type": "code",
   "execution_count": 40,
   "id": "0ac4374b",
   "metadata": {
    "execution": {
     "iopub.execute_input": "2022-09-07T12:33:24.920638Z",
     "iopub.status.busy": "2022-09-07T12:33:24.920233Z",
     "iopub.status.idle": "2022-09-07T12:33:24.937055Z",
     "shell.execute_reply": "2022-09-07T12:33:24.936227Z"
    },
    "papermill": {
     "duration": 0.039419,
     "end_time": "2022-09-07T12:33:24.939054",
     "exception": false,
     "start_time": "2022-09-07T12:33:24.899635",
     "status": "completed"
    },
    "tags": []
   },
   "outputs": [
    {
     "data": {
      "text/html": [
       "<div>\n",
       "<style scoped>\n",
       "    .dataframe tbody tr th:only-of-type {\n",
       "        vertical-align: middle;\n",
       "    }\n",
       "\n",
       "    .dataframe tbody tr th {\n",
       "        vertical-align: top;\n",
       "    }\n",
       "\n",
       "    .dataframe thead th {\n",
       "        text-align: right;\n",
       "    }\n",
       "</style>\n",
       "<table border=\"1\" class=\"dataframe\">\n",
       "  <thead>\n",
       "    <tr style=\"text-align: right;\">\n",
       "      <th></th>\n",
       "      <th>Pclass</th>\n",
       "      <th>Sex</th>\n",
       "      <th>Age</th>\n",
       "      <th>SibSp</th>\n",
       "      <th>Parch</th>\n",
       "      <th>Fare</th>\n",
       "      <th>Embarked</th>\n",
       "    </tr>\n",
       "    <tr>\n",
       "      <th>PassengerId</th>\n",
       "      <th></th>\n",
       "      <th></th>\n",
       "      <th></th>\n",
       "      <th></th>\n",
       "      <th></th>\n",
       "      <th></th>\n",
       "      <th></th>\n",
       "    </tr>\n",
       "  </thead>\n",
       "  <tbody>\n",
       "    <tr>\n",
       "      <th>892</th>\n",
       "      <td>3</td>\n",
       "      <td>1</td>\n",
       "      <td>34.5</td>\n",
       "      <td>0</td>\n",
       "      <td>0</td>\n",
       "      <td>7.8292</td>\n",
       "      <td>Q</td>\n",
       "    </tr>\n",
       "    <tr>\n",
       "      <th>893</th>\n",
       "      <td>3</td>\n",
       "      <td>0</td>\n",
       "      <td>47.0</td>\n",
       "      <td>1</td>\n",
       "      <td>0</td>\n",
       "      <td>7.0000</td>\n",
       "      <td>S</td>\n",
       "    </tr>\n",
       "    <tr>\n",
       "      <th>894</th>\n",
       "      <td>2</td>\n",
       "      <td>1</td>\n",
       "      <td>62.0</td>\n",
       "      <td>0</td>\n",
       "      <td>0</td>\n",
       "      <td>9.6875</td>\n",
       "      <td>Q</td>\n",
       "    </tr>\n",
       "    <tr>\n",
       "      <th>895</th>\n",
       "      <td>3</td>\n",
       "      <td>1</td>\n",
       "      <td>27.0</td>\n",
       "      <td>0</td>\n",
       "      <td>0</td>\n",
       "      <td>8.6625</td>\n",
       "      <td>S</td>\n",
       "    </tr>\n",
       "    <tr>\n",
       "      <th>896</th>\n",
       "      <td>3</td>\n",
       "      <td>0</td>\n",
       "      <td>22.0</td>\n",
       "      <td>1</td>\n",
       "      <td>1</td>\n",
       "      <td>12.2875</td>\n",
       "      <td>S</td>\n",
       "    </tr>\n",
       "  </tbody>\n",
       "</table>\n",
       "</div>"
      ],
      "text/plain": [
       "             Pclass  Sex   Age  SibSp  Parch     Fare Embarked\n",
       "PassengerId                                                   \n",
       "892               3    1  34.5      0      0   7.8292        Q\n",
       "893               3    0  47.0      1      0   7.0000        S\n",
       "894               2    1  62.0      0      0   9.6875        Q\n",
       "895               3    1  27.0      0      0   8.6625        S\n",
       "896               3    0  22.0      1      1  12.2875        S"
      ]
     },
     "execution_count": 40,
     "metadata": {},
     "output_type": "execute_result"
    }
   ],
   "source": [
    "test_df.replace(to_replace=\"male\", value=1, inplace=True)\n",
    "test_df.replace(to_replace=\"female\", value=0, inplace=True)\n",
    "test_df.set_index('PassengerId', inplace = True)\n",
    "test_df.head()"
   ]
  },
  {
   "cell_type": "code",
   "execution_count": 41,
   "id": "6017951d",
   "metadata": {
    "execution": {
     "iopub.execute_input": "2022-09-07T12:33:24.979179Z",
     "iopub.status.busy": "2022-09-07T12:33:24.978721Z",
     "iopub.status.idle": "2022-09-07T12:33:25.004595Z",
     "shell.execute_reply": "2022-09-07T12:33:25.003488Z"
    },
    "papermill": {
     "duration": 0.048599,
     "end_time": "2022-09-07T12:33:25.006859",
     "exception": false,
     "start_time": "2022-09-07T12:33:24.958260",
     "status": "completed"
    },
    "tags": []
   },
   "outputs": [
    {
     "data": {
      "text/html": [
       "<div>\n",
       "<style scoped>\n",
       "    .dataframe tbody tr th:only-of-type {\n",
       "        vertical-align: middle;\n",
       "    }\n",
       "\n",
       "    .dataframe tbody tr th {\n",
       "        vertical-align: top;\n",
       "    }\n",
       "\n",
       "    .dataframe thead th {\n",
       "        text-align: right;\n",
       "    }\n",
       "</style>\n",
       "<table border=\"1\" class=\"dataframe\">\n",
       "  <thead>\n",
       "    <tr style=\"text-align: right;\">\n",
       "      <th></th>\n",
       "      <th>Pclass</th>\n",
       "      <th>Sex</th>\n",
       "      <th>Age</th>\n",
       "      <th>SibSp</th>\n",
       "      <th>Parch</th>\n",
       "      <th>Fare</th>\n",
       "      <th>Embarked</th>\n",
       "      <th>Age Imp</th>\n",
       "    </tr>\n",
       "    <tr>\n",
       "      <th>PassengerId</th>\n",
       "      <th></th>\n",
       "      <th></th>\n",
       "      <th></th>\n",
       "      <th></th>\n",
       "      <th></th>\n",
       "      <th></th>\n",
       "      <th></th>\n",
       "      <th></th>\n",
       "    </tr>\n",
       "  </thead>\n",
       "  <tbody>\n",
       "    <tr>\n",
       "      <th>892</th>\n",
       "      <td>3</td>\n",
       "      <td>1</td>\n",
       "      <td>34.5</td>\n",
       "      <td>0</td>\n",
       "      <td>0</td>\n",
       "      <td>0.015282</td>\n",
       "      <td>Q</td>\n",
       "      <td>0.428248</td>\n",
       "    </tr>\n",
       "    <tr>\n",
       "      <th>893</th>\n",
       "      <td>3</td>\n",
       "      <td>0</td>\n",
       "      <td>47.0</td>\n",
       "      <td>1</td>\n",
       "      <td>0</td>\n",
       "      <td>0.013663</td>\n",
       "      <td>S</td>\n",
       "      <td>0.585323</td>\n",
       "    </tr>\n",
       "    <tr>\n",
       "      <th>894</th>\n",
       "      <td>2</td>\n",
       "      <td>1</td>\n",
       "      <td>62.0</td>\n",
       "      <td>0</td>\n",
       "      <td>0</td>\n",
       "      <td>0.018909</td>\n",
       "      <td>Q</td>\n",
       "      <td>0.773813</td>\n",
       "    </tr>\n",
       "    <tr>\n",
       "      <th>895</th>\n",
       "      <td>3</td>\n",
       "      <td>1</td>\n",
       "      <td>27.0</td>\n",
       "      <td>0</td>\n",
       "      <td>0</td>\n",
       "      <td>0.016908</td>\n",
       "      <td>S</td>\n",
       "      <td>0.334004</td>\n",
       "    </tr>\n",
       "    <tr>\n",
       "      <th>896</th>\n",
       "      <td>3</td>\n",
       "      <td>0</td>\n",
       "      <td>22.0</td>\n",
       "      <td>1</td>\n",
       "      <td>1</td>\n",
       "      <td>0.023984</td>\n",
       "      <td>S</td>\n",
       "      <td>0.271174</td>\n",
       "    </tr>\n",
       "  </tbody>\n",
       "</table>\n",
       "</div>"
      ],
      "text/plain": [
       "             Pclass  Sex   Age  SibSp  Parch      Fare Embarked   Age Imp\n",
       "PassengerId                                                              \n",
       "892               3    1  34.5      0      0  0.015282        Q  0.428248\n",
       "893               3    0  47.0      1      0  0.013663        S  0.585323\n",
       "894               2    1  62.0      0      0  0.018909        Q  0.773813\n",
       "895               3    1  27.0      0      0  0.016908        S  0.334004\n",
       "896               3    0  22.0      1      1  0.023984        S  0.271174"
      ]
     },
     "execution_count": 41,
     "metadata": {},
     "output_type": "execute_result"
    }
   ],
   "source": [
    "age_imputed = imputer.transform(test_df[['Age']])\n",
    "test_df['Age Imp'] =  age_imputed\n",
    "\n",
    "test_df[['Fare','Age Imp']] = mm.transform(test_df[['Fare','Age Imp']])\n",
    "test_df.head()"
   ]
  },
  {
   "cell_type": "code",
   "execution_count": 42,
   "id": "88e6717c",
   "metadata": {
    "execution": {
     "iopub.execute_input": "2022-09-07T12:33:25.047498Z",
     "iopub.status.busy": "2022-09-07T12:33:25.047082Z",
     "iopub.status.idle": "2022-09-07T12:33:25.067416Z",
     "shell.execute_reply": "2022-09-07T12:33:25.066277Z"
    },
    "papermill": {
     "duration": 0.043337,
     "end_time": "2022-09-07T12:33:25.069616",
     "exception": false,
     "start_time": "2022-09-07T12:33:25.026279",
     "status": "completed"
    },
    "tags": []
   },
   "outputs": [
    {
     "data": {
      "text/html": [
       "<div>\n",
       "<style scoped>\n",
       "    .dataframe tbody tr th:only-of-type {\n",
       "        vertical-align: middle;\n",
       "    }\n",
       "\n",
       "    .dataframe tbody tr th {\n",
       "        vertical-align: top;\n",
       "    }\n",
       "\n",
       "    .dataframe thead th {\n",
       "        text-align: right;\n",
       "    }\n",
       "</style>\n",
       "<table border=\"1\" class=\"dataframe\">\n",
       "  <thead>\n",
       "    <tr style=\"text-align: right;\">\n",
       "      <th></th>\n",
       "      <th>Pclass</th>\n",
       "      <th>Sex</th>\n",
       "      <th>Age</th>\n",
       "      <th>SibSp</th>\n",
       "      <th>Parch</th>\n",
       "      <th>Fare</th>\n",
       "      <th>Embarked</th>\n",
       "      <th>Age Imp</th>\n",
       "      <th>P2</th>\n",
       "      <th>P3</th>\n",
       "    </tr>\n",
       "    <tr>\n",
       "      <th>PassengerId</th>\n",
       "      <th></th>\n",
       "      <th></th>\n",
       "      <th></th>\n",
       "      <th></th>\n",
       "      <th></th>\n",
       "      <th></th>\n",
       "      <th></th>\n",
       "      <th></th>\n",
       "      <th></th>\n",
       "      <th></th>\n",
       "    </tr>\n",
       "  </thead>\n",
       "  <tbody>\n",
       "    <tr>\n",
       "      <th>892</th>\n",
       "      <td>3</td>\n",
       "      <td>1</td>\n",
       "      <td>34.5</td>\n",
       "      <td>0</td>\n",
       "      <td>0</td>\n",
       "      <td>0.015282</td>\n",
       "      <td>Q</td>\n",
       "      <td>0.428248</td>\n",
       "      <td>0.0</td>\n",
       "      <td>1.0</td>\n",
       "    </tr>\n",
       "    <tr>\n",
       "      <th>893</th>\n",
       "      <td>3</td>\n",
       "      <td>0</td>\n",
       "      <td>47.0</td>\n",
       "      <td>1</td>\n",
       "      <td>0</td>\n",
       "      <td>0.013663</td>\n",
       "      <td>S</td>\n",
       "      <td>0.585323</td>\n",
       "      <td>0.0</td>\n",
       "      <td>1.0</td>\n",
       "    </tr>\n",
       "    <tr>\n",
       "      <th>894</th>\n",
       "      <td>2</td>\n",
       "      <td>1</td>\n",
       "      <td>62.0</td>\n",
       "      <td>0</td>\n",
       "      <td>0</td>\n",
       "      <td>0.018909</td>\n",
       "      <td>Q</td>\n",
       "      <td>0.773813</td>\n",
       "      <td>1.0</td>\n",
       "      <td>0.0</td>\n",
       "    </tr>\n",
       "    <tr>\n",
       "      <th>895</th>\n",
       "      <td>3</td>\n",
       "      <td>1</td>\n",
       "      <td>27.0</td>\n",
       "      <td>0</td>\n",
       "      <td>0</td>\n",
       "      <td>0.016908</td>\n",
       "      <td>S</td>\n",
       "      <td>0.334004</td>\n",
       "      <td>0.0</td>\n",
       "      <td>1.0</td>\n",
       "    </tr>\n",
       "    <tr>\n",
       "      <th>896</th>\n",
       "      <td>3</td>\n",
       "      <td>0</td>\n",
       "      <td>22.0</td>\n",
       "      <td>1</td>\n",
       "      <td>1</td>\n",
       "      <td>0.023984</td>\n",
       "      <td>S</td>\n",
       "      <td>0.271174</td>\n",
       "      <td>0.0</td>\n",
       "      <td>1.0</td>\n",
       "    </tr>\n",
       "  </tbody>\n",
       "</table>\n",
       "</div>"
      ],
      "text/plain": [
       "             Pclass  Sex   Age  SibSp  Parch      Fare Embarked   Age Imp  \\\n",
       "PassengerId                                                                 \n",
       "892               3    1  34.5      0      0  0.015282        Q  0.428248   \n",
       "893               3    0  47.0      1      0  0.013663        S  0.585323   \n",
       "894               2    1  62.0      0      0  0.018909        Q  0.773813   \n",
       "895               3    1  27.0      0      0  0.016908        S  0.334004   \n",
       "896               3    0  22.0      1      1  0.023984        S  0.271174   \n",
       "\n",
       "              P2   P3  \n",
       "PassengerId            \n",
       "892          0.0  1.0  \n",
       "893          0.0  1.0  \n",
       "894          1.0  0.0  \n",
       "895          0.0  1.0  \n",
       "896          0.0  1.0  "
      ]
     },
     "execution_count": 42,
     "metadata": {},
     "output_type": "execute_result"
    }
   ],
   "source": [
    "pclass_ohe = ohe.transform(test_df[['Pclass']])\n",
    "test_df[['P2','P3']] = pclass_ohe.toarray()\n",
    "test_df.head()"
   ]
  },
  {
   "cell_type": "code",
   "execution_count": 43,
   "id": "8ebf177a",
   "metadata": {
    "execution": {
     "iopub.execute_input": "2022-09-07T12:33:25.110750Z",
     "iopub.status.busy": "2022-09-07T12:33:25.110385Z",
     "iopub.status.idle": "2022-09-07T12:33:25.133219Z",
     "shell.execute_reply": "2022-09-07T12:33:25.132058Z"
    },
    "papermill": {
     "duration": 0.046145,
     "end_time": "2022-09-07T12:33:25.135574",
     "exception": false,
     "start_time": "2022-09-07T12:33:25.089429",
     "status": "completed"
    },
    "tags": []
   },
   "outputs": [
    {
     "data": {
      "text/html": [
       "<div>\n",
       "<style scoped>\n",
       "    .dataframe tbody tr th:only-of-type {\n",
       "        vertical-align: middle;\n",
       "    }\n",
       "\n",
       "    .dataframe tbody tr th {\n",
       "        vertical-align: top;\n",
       "    }\n",
       "\n",
       "    .dataframe thead th {\n",
       "        text-align: right;\n",
       "    }\n",
       "</style>\n",
       "<table border=\"1\" class=\"dataframe\">\n",
       "  <thead>\n",
       "    <tr style=\"text-align: right;\">\n",
       "      <th></th>\n",
       "      <th>Pclass</th>\n",
       "      <th>Sex</th>\n",
       "      <th>Age</th>\n",
       "      <th>SibSp</th>\n",
       "      <th>Parch</th>\n",
       "      <th>Fare</th>\n",
       "      <th>Embarked</th>\n",
       "      <th>Age Imp</th>\n",
       "      <th>P2</th>\n",
       "      <th>P3</th>\n",
       "      <th>Emb C</th>\n",
       "      <th>Emb Q</th>\n",
       "      <th>Emb S</th>\n",
       "    </tr>\n",
       "    <tr>\n",
       "      <th>PassengerId</th>\n",
       "      <th></th>\n",
       "      <th></th>\n",
       "      <th></th>\n",
       "      <th></th>\n",
       "      <th></th>\n",
       "      <th></th>\n",
       "      <th></th>\n",
       "      <th></th>\n",
       "      <th></th>\n",
       "      <th></th>\n",
       "      <th></th>\n",
       "      <th></th>\n",
       "      <th></th>\n",
       "    </tr>\n",
       "  </thead>\n",
       "  <tbody>\n",
       "    <tr>\n",
       "      <th>892</th>\n",
       "      <td>3</td>\n",
       "      <td>1</td>\n",
       "      <td>34.5</td>\n",
       "      <td>0</td>\n",
       "      <td>0</td>\n",
       "      <td>0.015282</td>\n",
       "      <td>Q</td>\n",
       "      <td>0.428248</td>\n",
       "      <td>0.0</td>\n",
       "      <td>1.0</td>\n",
       "      <td>0.0</td>\n",
       "      <td>1.0</td>\n",
       "      <td>0.0</td>\n",
       "    </tr>\n",
       "    <tr>\n",
       "      <th>893</th>\n",
       "      <td>3</td>\n",
       "      <td>0</td>\n",
       "      <td>47.0</td>\n",
       "      <td>1</td>\n",
       "      <td>0</td>\n",
       "      <td>0.013663</td>\n",
       "      <td>S</td>\n",
       "      <td>0.585323</td>\n",
       "      <td>0.0</td>\n",
       "      <td>1.0</td>\n",
       "      <td>0.0</td>\n",
       "      <td>0.0</td>\n",
       "      <td>1.0</td>\n",
       "    </tr>\n",
       "    <tr>\n",
       "      <th>894</th>\n",
       "      <td>2</td>\n",
       "      <td>1</td>\n",
       "      <td>62.0</td>\n",
       "      <td>0</td>\n",
       "      <td>0</td>\n",
       "      <td>0.018909</td>\n",
       "      <td>Q</td>\n",
       "      <td>0.773813</td>\n",
       "      <td>1.0</td>\n",
       "      <td>0.0</td>\n",
       "      <td>0.0</td>\n",
       "      <td>1.0</td>\n",
       "      <td>0.0</td>\n",
       "    </tr>\n",
       "    <tr>\n",
       "      <th>895</th>\n",
       "      <td>3</td>\n",
       "      <td>1</td>\n",
       "      <td>27.0</td>\n",
       "      <td>0</td>\n",
       "      <td>0</td>\n",
       "      <td>0.016908</td>\n",
       "      <td>S</td>\n",
       "      <td>0.334004</td>\n",
       "      <td>0.0</td>\n",
       "      <td>1.0</td>\n",
       "      <td>0.0</td>\n",
       "      <td>0.0</td>\n",
       "      <td>1.0</td>\n",
       "    </tr>\n",
       "    <tr>\n",
       "      <th>896</th>\n",
       "      <td>3</td>\n",
       "      <td>0</td>\n",
       "      <td>22.0</td>\n",
       "      <td>1</td>\n",
       "      <td>1</td>\n",
       "      <td>0.023984</td>\n",
       "      <td>S</td>\n",
       "      <td>0.271174</td>\n",
       "      <td>0.0</td>\n",
       "      <td>1.0</td>\n",
       "      <td>0.0</td>\n",
       "      <td>0.0</td>\n",
       "      <td>1.0</td>\n",
       "    </tr>\n",
       "  </tbody>\n",
       "</table>\n",
       "</div>"
      ],
      "text/plain": [
       "             Pclass  Sex   Age  SibSp  Parch      Fare Embarked   Age Imp  \\\n",
       "PassengerId                                                                 \n",
       "892               3    1  34.5      0      0  0.015282        Q  0.428248   \n",
       "893               3    0  47.0      1      0  0.013663        S  0.585323   \n",
       "894               2    1  62.0      0      0  0.018909        Q  0.773813   \n",
       "895               3    1  27.0      0      0  0.016908        S  0.334004   \n",
       "896               3    0  22.0      1      1  0.023984        S  0.271174   \n",
       "\n",
       "              P2   P3  Emb C  Emb Q  Emb S  \n",
       "PassengerId                                 \n",
       "892          0.0  1.0    0.0    1.0    0.0  \n",
       "893          0.0  1.0    0.0    0.0    1.0  \n",
       "894          1.0  0.0    0.0    1.0    0.0  \n",
       "895          0.0  1.0    0.0    0.0    1.0  \n",
       "896          0.0  1.0    0.0    0.0    1.0  "
      ]
     },
     "execution_count": 43,
     "metadata": {},
     "output_type": "execute_result"
    }
   ],
   "source": [
    "emb_ohe = ohe2.transform(test_df[['Embarked']])\n",
    "test_df[['Emb C','Emb Q','Emb S']] = emb_ohe.toarray()[:,0:3]\n",
    "test_df.head()"
   ]
  },
  {
   "cell_type": "code",
   "execution_count": 44,
   "id": "c8a7df16",
   "metadata": {
    "execution": {
     "iopub.execute_input": "2022-09-07T12:33:25.177719Z",
     "iopub.status.busy": "2022-09-07T12:33:25.177331Z",
     "iopub.status.idle": "2022-09-07T12:33:25.183223Z",
     "shell.execute_reply": "2022-09-07T12:33:25.182213Z"
    },
    "papermill": {
     "duration": 0.029848,
     "end_time": "2022-09-07T12:33:25.185498",
     "exception": false,
     "start_time": "2022-09-07T12:33:25.155650",
     "status": "completed"
    },
    "tags": []
   },
   "outputs": [],
   "source": [
    "test_df.drop(columns = ['Pclass','Embarked','Age'], inplace = True)"
   ]
  },
  {
   "cell_type": "code",
   "execution_count": 45,
   "id": "cf942519",
   "metadata": {
    "execution": {
     "iopub.execute_input": "2022-09-07T12:33:25.227516Z",
     "iopub.status.busy": "2022-09-07T12:33:25.227140Z",
     "iopub.status.idle": "2022-09-07T12:33:25.244268Z",
     "shell.execute_reply": "2022-09-07T12:33:25.243156Z"
    },
    "papermill": {
     "duration": 0.040716,
     "end_time": "2022-09-07T12:33:25.246429",
     "exception": false,
     "start_time": "2022-09-07T12:33:25.205713",
     "status": "completed"
    },
    "tags": []
   },
   "outputs": [
    {
     "data": {
      "text/html": [
       "<div>\n",
       "<style scoped>\n",
       "    .dataframe tbody tr th:only-of-type {\n",
       "        vertical-align: middle;\n",
       "    }\n",
       "\n",
       "    .dataframe tbody tr th {\n",
       "        vertical-align: top;\n",
       "    }\n",
       "\n",
       "    .dataframe thead th {\n",
       "        text-align: right;\n",
       "    }\n",
       "</style>\n",
       "<table border=\"1\" class=\"dataframe\">\n",
       "  <thead>\n",
       "    <tr style=\"text-align: right;\">\n",
       "      <th></th>\n",
       "      <th>Sex</th>\n",
       "      <th>SibSp</th>\n",
       "      <th>Parch</th>\n",
       "      <th>Fare</th>\n",
       "      <th>Age Imp</th>\n",
       "      <th>P2</th>\n",
       "      <th>P3</th>\n",
       "      <th>Emb C</th>\n",
       "      <th>Emb Q</th>\n",
       "      <th>Emb S</th>\n",
       "    </tr>\n",
       "    <tr>\n",
       "      <th>PassengerId</th>\n",
       "      <th></th>\n",
       "      <th></th>\n",
       "      <th></th>\n",
       "      <th></th>\n",
       "      <th></th>\n",
       "      <th></th>\n",
       "      <th></th>\n",
       "      <th></th>\n",
       "      <th></th>\n",
       "      <th></th>\n",
       "    </tr>\n",
       "  </thead>\n",
       "  <tbody>\n",
       "    <tr>\n",
       "      <th>892</th>\n",
       "      <td>1</td>\n",
       "      <td>0</td>\n",
       "      <td>0</td>\n",
       "      <td>0.015282</td>\n",
       "      <td>0.428248</td>\n",
       "      <td>0.0</td>\n",
       "      <td>1.0</td>\n",
       "      <td>0.0</td>\n",
       "      <td>1.0</td>\n",
       "      <td>0.0</td>\n",
       "    </tr>\n",
       "    <tr>\n",
       "      <th>893</th>\n",
       "      <td>0</td>\n",
       "      <td>1</td>\n",
       "      <td>0</td>\n",
       "      <td>0.013663</td>\n",
       "      <td>0.585323</td>\n",
       "      <td>0.0</td>\n",
       "      <td>1.0</td>\n",
       "      <td>0.0</td>\n",
       "      <td>0.0</td>\n",
       "      <td>1.0</td>\n",
       "    </tr>\n",
       "    <tr>\n",
       "      <th>894</th>\n",
       "      <td>1</td>\n",
       "      <td>0</td>\n",
       "      <td>0</td>\n",
       "      <td>0.018909</td>\n",
       "      <td>0.773813</td>\n",
       "      <td>1.0</td>\n",
       "      <td>0.0</td>\n",
       "      <td>0.0</td>\n",
       "      <td>1.0</td>\n",
       "      <td>0.0</td>\n",
       "    </tr>\n",
       "    <tr>\n",
       "      <th>895</th>\n",
       "      <td>1</td>\n",
       "      <td>0</td>\n",
       "      <td>0</td>\n",
       "      <td>0.016908</td>\n",
       "      <td>0.334004</td>\n",
       "      <td>0.0</td>\n",
       "      <td>1.0</td>\n",
       "      <td>0.0</td>\n",
       "      <td>0.0</td>\n",
       "      <td>1.0</td>\n",
       "    </tr>\n",
       "    <tr>\n",
       "      <th>896</th>\n",
       "      <td>0</td>\n",
       "      <td>1</td>\n",
       "      <td>1</td>\n",
       "      <td>0.023984</td>\n",
       "      <td>0.271174</td>\n",
       "      <td>0.0</td>\n",
       "      <td>1.0</td>\n",
       "      <td>0.0</td>\n",
       "      <td>0.0</td>\n",
       "      <td>1.0</td>\n",
       "    </tr>\n",
       "  </tbody>\n",
       "</table>\n",
       "</div>"
      ],
      "text/plain": [
       "             Sex  SibSp  Parch      Fare   Age Imp   P2   P3  Emb C  Emb Q  \\\n",
       "PassengerId                                                                  \n",
       "892            1      0      0  0.015282  0.428248  0.0  1.0    0.0    1.0   \n",
       "893            0      1      0  0.013663  0.585323  0.0  1.0    0.0    0.0   \n",
       "894            1      0      0  0.018909  0.773813  1.0  0.0    0.0    1.0   \n",
       "895            1      0      0  0.016908  0.334004  0.0  1.0    0.0    0.0   \n",
       "896            0      1      1  0.023984  0.271174  0.0  1.0    0.0    0.0   \n",
       "\n",
       "             Emb S  \n",
       "PassengerId         \n",
       "892            0.0  \n",
       "893            1.0  \n",
       "894            0.0  \n",
       "895            1.0  \n",
       "896            1.0  "
      ]
     },
     "execution_count": 45,
     "metadata": {},
     "output_type": "execute_result"
    }
   ],
   "source": [
    "test_df.head()"
   ]
  },
  {
   "cell_type": "code",
   "execution_count": null,
   "id": "780c22cc",
   "metadata": {
    "papermill": {
     "duration": 0.019819,
     "end_time": "2022-09-07T12:33:25.286617",
     "exception": false,
     "start_time": "2022-09-07T12:33:25.266798",
     "status": "completed"
    },
    "tags": []
   },
   "outputs": [],
   "source": []
  }
 ],
 "metadata": {
  "kernelspec": {
   "display_name": "Python 3",
   "language": "python",
   "name": "python3"
  },
  "language_info": {
   "codemirror_mode": {
    "name": "ipython",
    "version": 3
   },
   "file_extension": ".py",
   "mimetype": "text/x-python",
   "name": "python",
   "nbconvert_exporter": "python",
   "pygments_lexer": "ipython3",
   "version": "3.7.12"
  },
  "papermill": {
   "default_parameters": {},
   "duration": 15.595145,
   "end_time": "2022-09-07T12:33:26.027628",
   "environment_variables": {},
   "exception": null,
   "input_path": "__notebook__.ipynb",
   "output_path": "__notebook__.ipynb",
   "parameters": {},
   "start_time": "2022-09-07T12:33:10.432483",
   "version": "2.3.4"
  }
 },
 "nbformat": 4,
 "nbformat_minor": 5
}
